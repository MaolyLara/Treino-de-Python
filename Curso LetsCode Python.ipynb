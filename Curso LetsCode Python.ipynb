{
 "cells": [
  {
   "cell_type": "code",
   "execution_count": 4,
   "id": "2dc5e6f8",
   "metadata": {},
   "outputs": [
    {
     "name": "stdout",
     "output_type": "stream",
     "text": [
      "Hello, Word!\n"
     ]
    }
   ],
   "source": [
    "print('Hello, Word!')"
   ]
  },
  {
   "cell_type": "code",
   "execution_count": 7,
   "id": "3434f3af",
   "metadata": {},
   "outputs": [],
   "source": [
    "#Variaveis em Python, almacenar valores.\n",
    "\n",
    "x=5 \n"
   ]
  },
  {
   "cell_type": "code",
   "execution_count": 8,
   "id": "506e7d75",
   "metadata": {},
   "outputs": [
    {
     "name": "stdout",
     "output_type": "stream",
     "text": [
      "5\n"
     ]
    }
   ],
   "source": [
    "print(x)"
   ]
  },
  {
   "cell_type": "code",
   "execution_count": 10,
   "id": "018a4d5e",
   "metadata": {},
   "outputs": [
    {
     "name": "stdout",
     "output_type": "stream",
     "text": [
      "<class 'int'>\n"
     ]
    }
   ],
   "source": [
    "#Tipo inteiros, função type\n",
    "\n",
    "print(type(x))"
   ]
  },
  {
   "cell_type": "code",
   "execution_count": 11,
   "id": "a87848e3",
   "metadata": {},
   "outputs": [
    {
     "name": "stdout",
     "output_type": "stream",
     "text": [
      "<class 'float'>\n"
     ]
    }
   ],
   "source": [
    "preco = 19.90\n",
    "\n",
    "print(type(preco))"
   ]
  },
  {
   "cell_type": "code",
   "execution_count": 13,
   "id": "c85d30e0",
   "metadata": {},
   "outputs": [
    {
     "name": "stdout",
     "output_type": "stream",
     "text": [
      "<class 'str'>\n"
     ]
    }
   ],
   "source": [
    "cidade= 'Manaus - AM'\n",
    "\n",
    "print(type(cidade))"
   ]
  },
  {
   "cell_type": "code",
   "execution_count": 16,
   "id": "33420f3d",
   "metadata": {},
   "outputs": [
    {
     "name": "stdout",
     "output_type": "stream",
     "text": [
      "<class 'bool'>\n"
     ]
    }
   ],
   "source": [
    "disponivel = True\n",
    "\n",
    "print(type(disponivel))"
   ]
  },
  {
   "cell_type": "markdown",
   "id": "be9a9d62",
   "metadata": {},
   "source": [
    "**Variáveis**\n",
    "\n",
    "Variáveis são pedacinhos de memória onde armazenamos valores. Sempre que referenciamos o nome de uma variável, o valor é acessado. Definimos uma variável dando um nome a ela e usando o sinal de igual (=) para atribuir um valor."
   ]
  },
  {
   "cell_type": "code",
   "execution_count": 15,
   "id": "4ee7b4da",
   "metadata": {},
   "outputs": [],
   "source": [
    "x = -10 # uma variável do tipo inteiro (int)\n",
    "y = 3.14 # uma variável do tipo real (float)\n",
    "escola = \"Let's Code\" # uma variável literal (string)\n",
    "primeiraAula = True # uma variável lógica (booleana)"
   ]
  },
  {
   "cell_type": "markdown",
   "id": "0acb607c",
   "metadata": {},
   "source": [
    "Note que o operador igual (=) NÃO possui o mesmo comportamento da matemática. Na matemática, ele é um operador bidirecional: x = 2y seria a mesma coisa que 2y = x. No Python, ele é o que chamamos de um operador de ATRIBUIÇÃO: A expressão à direita do sinal é resolvida e seu resultado é armazenado na variável à esquerda."
   ]
  },
  {
   "cell_type": "code",
   "execution_count": 18,
   "id": "9a4ce99b",
   "metadata": {},
   "outputs": [
    {
     "data": {
      "text/plain": [
       "'\\nO símbolo # é um comentário de apenas 1 linha.\\nUsando 3 aspas simples consecutivas é possível abrir um bloco de comentário\\nde múltiplas linhas. O bloco se encerra com outras 3 aspas simples.\\n'"
      ]
     },
     "execution_count": 18,
     "metadata": {},
     "output_type": "execute_result"
    }
   ],
   "source": [
    "# Linhas iniciadas com # são comentários.\n",
    "# Comentários são ignorados pelo Python e servem para explicar o código.\n",
    "\n",
    "'''\n",
    "O símbolo # é um comentário de apenas 1 linha.\n",
    "Usando 3 aspas simples consecutivas é possível abrir um bloco de comentário\n",
    "de múltiplas linhas. O bloco se encerra com outras 3 aspas simples.\n",
    "'''"
   ]
  },
  {
   "cell_type": "markdown",
   "id": "bc994f40",
   "metadata": {},
   "source": [
    "**Operadores aritméticos**"
   ]
  },
  {
   "cell_type": "code",
   "execution_count": 20,
   "id": "861f1a8b",
   "metadata": {},
   "outputs": [
    {
     "name": "stdout",
     "output_type": "stream",
     "text": [
      "5 -1 6 0.6666666666666666 0 8 2\n",
      "6 0\n",
      "Digite seu primeiro nome:Maoly\n",
      "Maoly Lara Serrano\n"
     ]
    }
   ],
   "source": [
    "# Podemos fazer operações aritméticas simples\n",
    "a = 2 + 3  # Soma\n",
    "b = 2 - 3  # Subtração\n",
    "c = 2 * 3  # Multiplicação\n",
    "d = 2 / 3  # Divisão\n",
    "e = 2 // 3 # Divisão inteira\n",
    "f = 2 ** 3 # Potência\n",
    "g = 2 % 3  # Resto de divisão\n",
    "\n",
    "print (a, b, c, d, e, f, g)\n",
    "\n",
    "# Podemos fazer operações dentro do print\n",
    "\n",
    "print (a+1, b+1)\n",
    "\n",
    "#Podemos fazer operações com variáveis não inteiras\n",
    "nome = input('Digite seu primeiro nome:')\n",
    "nome = nome + ' Lara Serrano'\n",
    "print(nome)"
   ]
  },
  {
   "cell_type": "markdown",
   "id": "4066c61b",
   "metadata": {},
   "source": [
    "**Operadores relacionais**\n",
    "\n",
    "Observe o código abaixo:"
   ]
  },
  {
   "cell_type": "code",
   "execution_count": 21,
   "id": "49129ca7",
   "metadata": {},
   "outputs": [
    {
     "name": "stdout",
     "output_type": "stream",
     "text": [
      "True\n",
      "False\n"
     ]
    }
   ],
   "source": [
    "comparacao1 = 5 > 3\n",
    "print(comparacao1)\n",
    "comparacao2 = 5 < 3\n",
    "print(comparacao2)"
   ]
  },
  {
   "cell_type": "markdown",
   "id": "fd6591d7",
   "metadata": {},
   "source": [
    "Ao ser executado, a saída que teremos na tela será:\n",
    "\n",
    "**True**\n",
    "**False**\n"
   ]
  },
  {
   "cell_type": "markdown",
   "id": "d2fd5c4c",
   "metadata": {},
   "source": [
    "Isso ocorre porque 5 é maior que 3. Portanto, comparacao1 recebeu uma expressão cujo valor lógico é verdadeiro, portanto seu resultado foi True, e o oposto ocorreu para comparacao2.\n",
    "\n",
    "O Python possui 6 operadores relacionais:\n",
    "\n",
    "Maior que: >\n",
    "Maior ou igual: >=\n",
    "Menor que: <\n",
    "Menor ou igual: <=\n",
    "Igual: ==\n",
    "Diferente: !=\n",
    "Note que o operador para comparar se 2 valores são iguais é ==, e não =. Isso ocorre porque o operador = é o nosso operador de atribuição: ele diz que a variável à sua esquerda deve receber o valor da expressão à direita. O operador == irá testar se o valor à sua esquerda é igual ao valor à sua direita e irá responder True ou False, como todos os outros operadores de comparação.\n",
    "\n",
    "**Operadores lógicos**\n",
    "Em alguns casos também precisamos testar se duas ou mais condições são verdadeiras. Para isso utilizaremos as conjunções lógicas:\n",
    "\n",
    "**and: verdadeiro se condição 1 for verdadeira e condição 2 for verdadeira\n",
    "or: verdadeiro se condição 1 for verdadeira ou condição 2 for verdadeira\n",
    "No exemplo abaixo, o resultado é verdadeiro para comparacao1 e falso para comparacao2.**\n",
    "\n",
    "comparacao1 = 5 > 3 and 6 > 3\n",
    "comparacao2 = 5 < 3 and 6 > 3\n",
    "Já no exemplo seguinte, tanto comparacao1 quanto comparacao2 retornam o valor verdadeiro.\n",
    "\n",
    "comparacao1 = 5 > 3 or 6 > 3\n",
    "comparacao2 = 5 < 3 or 6 > 3\n",
    "Também é possível negar uma expressão lógica usando o not. Em outras palavras, se comparacao1 = 5 > 3 é verdadeira, comparacao1 = not(5 > 3) será falsa, e vice-versa."
   ]
  },
  {
   "cell_type": "code",
   "execution_count": 22,
   "id": "c0469ebf",
   "metadata": {},
   "outputs": [],
   "source": [
    "comparacao1 = 5 > 3 and 6 > 3\n",
    "comparacao2 = 5 < 3 and 6 > 3"
   ]
  },
  {
   "cell_type": "code",
   "execution_count": 24,
   "id": "d05344c1",
   "metadata": {},
   "outputs": [
    {
     "name": "stdout",
     "output_type": "stream",
     "text": [
      "True True\n"
     ]
    }
   ],
   "source": [
    "print(comparacao1 , comparacao2)"
   ]
  },
  {
   "cell_type": "code",
   "execution_count": 23,
   "id": "a96e41dd",
   "metadata": {},
   "outputs": [],
   "source": [
    "comparacao1 = 5 > 3 or 6 > 3\n",
    "comparacao2 = 5 < 3 or 6 > 3"
   ]
  },
  {
   "cell_type": "code",
   "execution_count": 25,
   "id": "a31941f7",
   "metadata": {},
   "outputs": [
    {
     "name": "stdout",
     "output_type": "stream",
     "text": [
      "True True\n"
     ]
    }
   ],
   "source": [
    "print(comparacao1 , comparacao2)"
   ]
  },
  {
   "cell_type": "code",
   "execution_count": 26,
   "id": "f972965e",
   "metadata": {},
   "outputs": [],
   "source": [
    "#operações básicas \n",
    "\n",
    "x= 50\n",
    "y= 2"
   ]
  },
  {
   "cell_type": "code",
   "execution_count": 27,
   "id": "82bf55bf",
   "metadata": {},
   "outputs": [
    {
     "name": "stdout",
     "output_type": "stream",
     "text": [
      "52\n",
      "48\n",
      "100\n",
      "25.0\n"
     ]
    }
   ],
   "source": [
    "print(x + y)\n",
    "print(x - y)\n",
    "print(x * y)\n",
    "print(x / y)"
   ]
  },
  {
   "cell_type": "code",
   "execution_count": 31,
   "id": "28d9829c",
   "metadata": {},
   "outputs": [
    {
     "name": "stdout",
     "output_type": "stream",
     "text": [
      "2500\n",
      "25\n",
      "0\n"
     ]
    }
   ],
   "source": [
    "print(x ** y) #Exponeção\n",
    "print(x // y) #Divisão inteira\n",
    "print(x % y) #Divisão \"Pega o Resto\""
   ]
  },
  {
   "cell_type": "code",
   "execution_count": 32,
   "id": "9fb95673",
   "metadata": {},
   "outputs": [
    {
     "name": "stdout",
     "output_type": "stream",
     "text": [
      "0\n"
     ]
    }
   ],
   "source": [
    "# Outro exemplos\n",
    "\n",
    "print(3 // 4) "
   ]
  },
  {
   "cell_type": "code",
   "execution_count": 33,
   "id": "900b7ff6",
   "metadata": {},
   "outputs": [],
   "source": [
    "#operadores lógicos\n",
    "\n",
    "tem_cafe = True\n",
    "tem_pao = False"
   ]
  },
  {
   "cell_type": "code",
   "execution_count": 36,
   "id": "9508810e",
   "metadata": {},
   "outputs": [
    {
     "name": "stdout",
     "output_type": "stream",
     "text": [
      "False\n",
      "True\n",
      "False\n"
     ]
    }
   ],
   "source": [
    "print(not tem_cafe)\n",
    "print(tem_cafe or tem_pao)\n",
    "print(tem_cafe and tem_pao)"
   ]
  },
  {
   "cell_type": "code",
   "execution_count": 37,
   "id": "344f3693",
   "metadata": {},
   "outputs": [],
   "source": [
    "#operadores relacionais ou comparação \n",
    "\n",
    "dolar = 5.1\n",
    "real = 1"
   ]
  },
  {
   "cell_type": "code",
   "execution_count": 38,
   "id": "0e0d996d",
   "metadata": {},
   "outputs": [
    {
     "name": "stdout",
     "output_type": "stream",
     "text": [
      "True\n",
      "False\n",
      "False\n",
      "True\n",
      "False\n",
      "True\n"
     ]
    }
   ],
   "source": [
    "print(dolar > real) #maior\n",
    "print(dolar < real) #menor\n",
    "print(dolar == real) #Igual\n",
    "print(dolar >= real) #maior o igual\n",
    "print(dolar <= real) #menor o igual\n",
    "print(dolar != real) #diferente"
   ]
  },
  {
   "cell_type": "markdown",
   "id": "5d633e1c",
   "metadata": {},
   "source": [
    "**Estruturas Sequenciais**"
   ]
  },
  {
   "cell_type": "markdown",
   "id": "9f1196c7",
   "metadata": {},
   "source": [
    "**Outputs**\n",
    "\n",
    "Chamamos de saídas ou outputs do nosso programa todos os dados que são gerados pelo programa e fornecidos para o usuário.\n",
    "\n",
    "Já conhecemos a função print() que recebe um valor ou uma sequência de valores e realiza a tarefa de imprimí-los na tela."
   ]
  },
  {
   "cell_type": "code",
   "execution_count": 39,
   "id": "29899ca2",
   "metadata": {},
   "outputs": [
    {
     "name": "stdout",
     "output_type": "stream",
     "text": [
      "eu estudo na  Let's Code\n",
      "pi vale 3.14\n",
      "4.140000000000001 9.8596\n"
     ]
    }
   ],
   "source": [
    "y = 3.14 # uma variável do tipo real (float)\n",
    "escola = \"Let's Code\" # uma variável literal (string)\n",
    "\n",
    "# Podemos exibir textos na tela e/ou valores de variáveis com a função print().\n",
    "print('eu estudo na ', escola)\n",
    "print('pi vale', y)\n",
    "\n",
    "# Podemos fazer operações dentro do print:\n",
    "print (y+1, y**2)"
   ]
  },
  {
   "cell_type": "markdown",
   "id": "5f0d7887",
   "metadata": {},
   "source": [
    "**Inputs**\n",
    "\n",
    "Já as entradas ou inputs do nosso programa são as informações que o usuário possui e deve fornecer ao código."
   ]
  },
  {
   "cell_type": "code",
   "execution_count": 40,
   "id": "01a6c7cb",
   "metadata": {},
   "outputs": [
    {
     "name": "stdout",
     "output_type": "stream",
     "text": [
      "Digite o seu nome: Maoly \n",
      "Digite o seu peso: 100\n",
      "Digite a sua idade: 38\n",
      "Maoly  pesa 100.0 kg e tem 38 anos de idade.\n"
     ]
    }
   ],
   "source": [
    "# Podemos ler valores do teclado com a função input().\n",
    "# Ela permite que a gente passe uma mensagem para o usuário.\n",
    "nome = input('Digite o seu nome: ')\n",
    "\n",
    "# Tudo que é lido por input() é considerado uma string (str).\n",
    "# Para tratar como outros tipos de dados é necessário realizar a conversão:\n",
    "peso = float(input('Digite o seu peso: ')) # lê o peso como número real\n",
    "idade = int(input('Digite a sua idade: ')) # lê a idade como número inteiro\n",
    "\n",
    "print(nome, 'pesa', peso, 'kg e tem', idade, 'anos de idade.')"
   ]
  },
  {
   "cell_type": "code",
   "execution_count": 41,
   "id": "d647f54d",
   "metadata": {},
   "outputs": [
    {
     "name": "stdout",
     "output_type": "stream",
     "text": [
      "Informe a sua idade: 38\n",
      "38 <class 'str'>\n"
     ]
    }
   ],
   "source": [
    "idade = input('Informe a sua idade: ')\n",
    "print(idade, type(idade))"
   ]
  },
  {
   "cell_type": "code",
   "execution_count": 42,
   "id": "135cb57d",
   "metadata": {},
   "outputs": [
    {
     "name": "stdout",
     "output_type": "stream",
     "text": [
      "38 <class 'int'>\n"
     ]
    }
   ],
   "source": [
    "idade = int(idade)\n",
    "print(idade, type(idade))"
   ]
  },
  {
   "cell_type": "code",
   "execution_count": 43,
   "id": "a3862139",
   "metadata": {},
   "outputs": [
    {
     "name": "stdout",
     "output_type": "stream",
     "text": [
      "125.25\n",
      "125.25\n",
      "False\n",
      "True\n",
      "False\n",
      "True\n"
     ]
    }
   ],
   "source": [
    "print(float('125.25'))\n",
    "print(str(125.25))\n",
    "print(bool(''))\n",
    "print(bool('amor'))\n",
    "print(bool(0))\n",
    "print(bool(-5))"
   ]
  },
  {
   "cell_type": "code",
   "execution_count": 45,
   "id": "f6773fde",
   "metadata": {},
   "outputs": [
    {
     "name": "stdout",
     "output_type": "stream",
     "text": [
      "Digite o valor de seu salario mensual: 2400\n",
      "Digite o valor de seu gasto mensual em meia: 2000\n",
      "O montate que você pode economizar ao final do ano é:  4800.0\n"
     ]
    }
   ],
   "source": [
    "#Algoritmo\n",
    "# Estruturas Sequenciais\n",
    "\n",
    "salario_mensual = input('Digite o valor de seu salario mensual: ')\n",
    "salario_mensual = float(salario_mensual)\n",
    "\n",
    "gasto_mensual = input('Digite o valor de seu gasto mensual em meia: ')\n",
    "gasto_mensual = float(gasto_mensual)\n",
    "\n",
    "salario_total = salario_mensual * 12\n",
    "gasto_total = gasto_mensual * 12\n",
    "\n",
    "montante_economizado = salario_total - gasto_total\n",
    "print(\"O montate que você pode economizar ao final do ano é: \", montante_economizado)"
   ]
  },
  {
   "cell_type": "markdown",
   "id": "ee377938",
   "metadata": {},
   "source": [
    "**Estruturas Sequenciais**"
   ]
  },
  {
   "cell_type": "markdown",
   "id": "1cd145a7",
   "metadata": {},
   "source": [
    "**If**\n",
    "\n",
    "O if testa uma condição:\n",
    "\n",
    "se ela for verdadeira, seu conteúdo é executado;\n",
    "caso contrário, seu conteúdo é ignorado."
   ]
  },
  {
   "cell_type": "code",
   "execution_count": 46,
   "id": "db255692",
   "metadata": {},
   "outputs": [
    {
     "name": "stdout",
     "output_type": "stream",
     "text": [
      "Digite sua idade:38\n",
      "Você pode entrar na montanha russa.\n",
      "Obrigado por participar.\n",
      "Digite sua altura, em metros:1.65\n",
      "Você pode entrar na montanha russa.\n",
      "Obrigado por participar.\n"
     ]
    }
   ],
   "source": [
    "# Capturando e tratando a quantidade de pessoas.\n",
    "while True:\n",
    "    try:\n",
    "        n = int(input('Desejas inserir a idade de quantas pessoas? '))\n",
    "        if n <= 0:\n",
    "            print('\\033[31mValor INVÁLIDO! Digite apenas números inteiros maiores que \"0\"!\\033[m')\n",
    "        else:\n",
    "            break\n",
    "    except:\n",
    "        print('\\033[31mValor INVÁLIDO! Digite apenas números inteiros!\\033[m')\n",
    "\n",
    "cont = cont1 = cont2 = cont3 = cont4 = cont5 = 0\n",
    "for c in range(1, n + 1):\n",
    "    # Capturando e tratando a idade de cada pessoa.\n",
    "    while True:\n",
    "        try:\n",
    "            idade = int(input(f'Digite a idade da {c}ª pessoa: '))\n",
    "            if idade < 0:\n",
    "                print('\\033[31mValor INVÁLIDO! Digite apenas inteiros maiores ou iguais a \"0\"!\\033[m')\n",
    "            else:\n",
    "                break\n",
    "        except:\n",
    "            print('\\033[31mValor INVÁLIDO! Digite apenas inteiros maiores ou iguais a \"0\"!\\033[m')\n",
    "\n",
    "    # Somando as idades por faixa etária.\n",
    "    if 0 <= idade < 18:\n",
    "        cont1 += 1\n",
    "    elif 18 <= idade < 66:\n",
    "        cont2 += 1\n",
    "    elif 66 <= idade < 80:\n",
    "        cont3 += 1\n",
    "    elif 80 <= idade < 100:\n",
    "        cont4 += 1\n",
    "    elif idade >= 100:\n",
    "        cont5 += 1\n",
    "\n",
    "# Exibindo os resultados:\n",
    "print(f'\\033[32mMenor de Idade: {cont1}')\n",
    "print(f'Jovem: {cont2}')\n",
    "print(f'Meia Idade: {cont3}')\n",
    "print(f'Idoso: {cont4}')\n",
    "print(f'Idoso de Vida Longa: {cont5}')\n",
    "\n",
    "altura = float(input('Digite sua altura, em metros:'))\n",
    "if idade >= 12 and altura >= 1.60:\n",
    "    print('Você pode entrar na montanha russa.')\n",
    "print('Obrigado por participar.')"
   ]
  },
  {
   "cell_type": "markdown",
   "id": "5192f5df",
   "metadata": {},
   "source": [
    "Utilizamos um 'tab' antes de cada linha pertencente ao if. No exemplo acima, a linha 'obrigado por participar' sempre será exibida. Já a linha 'Você pode entrar na montanha russa.' só será exibida se a idade digitada for maior ou igual a 12 e a altura digitada for maior ou igual a 1.60.\n",
    "\n",
    "**Else**\n",
    "\n",
    "Em alguns casos, queremos que o programa escolha entre 2 casos mutuamente exclusivos. Para isso utilizamos o else. O else não possui condição para verificar. O else sempre vem imediatamente após um if e é executado se o if for ignorado."
   ]
  },
  {
   "cell_type": "code",
   "execution_count": 47,
   "id": "f698577f",
   "metadata": {},
   "outputs": [
    {
     "name": "stdout",
     "output_type": "stream",
     "text": [
      "Digite sua idade:38\n",
      "Digite sua altura, em metros:1.50\n",
      "Você não pode entrar na montanha russa.\n",
      "Obrigado por participar.\n"
     ]
    }
   ],
   "source": [
    "idade = int(input('Digite sua idade:'))\n",
    "altura = float(input('Digite sua altura, em metros:'))\n",
    "if idade >= 12 and altura >= 1.60:\n",
    "    print('Você pode entrar na montanha russa.')\n",
    "else:\n",
    "    print('Você não pode entrar na montanha russa.')\n",
    "print('Obrigado por participar.')"
   ]
  },
  {
   "cell_type": "markdown",
   "id": "d497b7dc",
   "metadata": {},
   "source": [
    "É possível \"**aninhar**\" diversos if's e else's. O programa abaixo só deixa a pessoa entrar no brinquedo se tiver idade e altura mínimas:"
   ]
  },
  {
   "cell_type": "code",
   "execution_count": 49,
   "id": "1ca972bb",
   "metadata": {},
   "outputs": [
    {
     "name": "stdout",
     "output_type": "stream",
     "text": [
      "Digite sua idade:38\n",
      "Você gostaria de entrar nesta montanha russa? sim\n",
      "Por favor, entre!\n"
     ]
    }
   ],
   "source": [
    "idade = int(input('Digite sua idade: '))\n",
    "if idade >= 12:\n",
    "    resposta = input('Você gostaria de entrar nesta montanha russa? ')\n",
    "    if (resposta == 'sim'):\n",
    "        print('Por favor, entre!')\n",
    "    else:\n",
    "        print('Ok então')\n",
    "else:\n",
    "    print('Você não tem idade suficiente para entrar nesse brinquedo.')"
   ]
  },
  {
   "cell_type": "markdown",
   "id": "c40f9de8",
   "metadata": {},
   "source": [
    "**Elif**\n",
    "\n",
    "Podemos testar diversos casos mutuamente exclusivos utilizando o '**elif**'.\n",
    "\n",
    "O comando elif é a contração de \"**else if**\" - ou seja, caso um if não seja executado, você pode propor uma nova condição para ser testada."
   ]
  },
  {
   "cell_type": "code",
   "execution_count": 50,
   "id": "8741f53a",
   "metadata": {},
   "outputs": [
    {
     "name": "stdout",
     "output_type": "stream",
     "text": [
      "Quantos exercícios de Python vc já fez? 5\n",
      "Xiiii...\n"
     ]
    }
   ],
   "source": [
    "exercicios = int(input('Quantos exercícios de Python vc já fez? '))\n",
    "\n",
    "if exercicios > 30:\n",
    "    print('Já está ficando profissional!')\n",
    "elif exercicios > 20:\n",
    "    print('Tá indo bem, bora fazer mais alguns!')\n",
    "elif exercicios > 10:\n",
    "    print('Vamos tirar o atraso?')\n",
    "else:\n",
    "    print('Xiiii...')"
   ]
  },
  {
   "cell_type": "markdown",
   "id": "39ff8d3d",
   "metadata": {},
   "source": [
    "Observe que a união das 3 estruturas (**if-elif-else**) implica que seu código seguirá apenas um dos possíveis caminhos, obrigatoriamente."
   ]
  },
  {
   "cell_type": "code",
   "execution_count": 53,
   "id": "5fc4bc33",
   "metadata": {},
   "outputs": [
    {
     "name": "stdout",
     "output_type": "stream",
     "text": [
      "Qual é o valor da corrida? 35\n",
      "Pague o ônibus!\n"
     ]
    }
   ],
   "source": [
    "#Prática\n",
    "\n",
    "valor_passagem = 3.80\n",
    "\n",
    "valor_corrida = input('Qual é o valor da corrida? ')\n",
    "\n",
    "if float(valor_corrida) <= valor_passagem * 5:\n",
    "    print('Pague a Corrida')\n",
    "if float(valor_corrida) > valor_passagem * 5:\n",
    "    print('Pague o Ônibus')"
   ]
  },
  {
   "cell_type": "code",
   "execution_count": 57,
   "id": "36d38265",
   "metadata": {},
   "outputs": [
    {
     "name": "stdout",
     "output_type": "stream",
     "text": [
      "Qual é o valor da corrida? 20\n",
      "Pague o Ônibus\n"
     ]
    }
   ],
   "source": [
    "valor_passagem = 3.80\n",
    "\n",
    "valor_corrida = input('Qual é o valor da corrida? ')\n",
    "\n",
    "if float(valor_corrida) <= valor_passagem * 5:\n",
    "    print('Pague a Corrida')\n",
    "else:\n",
    "    print('Pague o Ônibus')"
   ]
  },
  {
   "cell_type": "code",
   "execution_count": 61,
   "id": "ab345402",
   "metadata": {},
   "outputs": [
    {
     "name": "stdout",
     "output_type": "stream",
     "text": [
      "Qual é o valor da corrida? 21\n",
      "Aguarde um pouco, vai baixar, tenha Fé!\n"
     ]
    }
   ],
   "source": [
    "valor_passagem = 3.80\n",
    "\n",
    "valor_corrida = input('Qual é o valor da corrida? ')\n",
    "\n",
    "if float(valor_corrida) <= valor_passagem * 5:\n",
    "    print('Pague a Corrida')\n",
    "else: \n",
    "    if float(valor_corrida) <= valor_passagem * 6:\n",
    "        print('Aguarde um pouco, vai baixar, tenha Fé!')    \n",
    "    else:\n",
    "        print('Pague o Ônibus')"
   ]
  },
  {
   "cell_type": "code",
   "execution_count": 62,
   "id": "0357457b",
   "metadata": {},
   "outputs": [
    {
     "name": "stdout",
     "output_type": "stream",
     "text": [
      "Qual é o valor da corrida? 20\n",
      "Aguarde um pouco, vai baixar, tenha Fé!\n"
     ]
    }
   ],
   "source": [
    "valor_passagem = 3.80\n",
    "\n",
    "valor_corrida = input('Qual é o valor da corrida? ')\n",
    "\n",
    "if float(valor_corrida) <= valor_passagem * 5:\n",
    "    print('Pague a Corrida')\n",
    "elif float(valor_corrida) <= valor_passagem * 6:\n",
    "    print('Aguarde um pouco, vai baixar, tenha Fé!')    \n",
    "else:\n",
    "    print('Pague o Ônibus')"
   ]
  },
  {
   "cell_type": "markdown",
   "id": "58e07c24",
   "metadata": {},
   "source": [
    "**Estruturas de Repetição - While**"
   ]
  },
  {
   "cell_type": "markdown",
   "id": "80149e47",
   "metadata": {},
   "source": [
    "**While**\n",
    "\n",
    "O **while** é bastante parecido com um 'if': ele possui uma expressão, e é executado caso ela seja verdadeira. Mas o if é executado apenas uma vez, e depois o código segue adiante.\n",
    "\n",
    "O **while** não: ao final de sua execução, ele torna a testar a expressão, e caso ela seja verdadeira, ele repete sua execução."
   ]
  },
  {
   "cell_type": "code",
   "execution_count": 65,
   "id": "79165a0a",
   "metadata": {},
   "outputs": [
    {
     "name": "stdout",
     "output_type": "stream",
     "text": [
      "Qual horario é agora? 22\n",
      "Você nâo está no horario da madrugada\n"
     ]
    }
   ],
   "source": [
    "horario = int(input('Qual horario é agora? '))\n",
    "\n",
    "# Testando a condição uma única vez com o if:\n",
    "if 0 < horario < 6:\n",
    "    print('Você está no horario da madrugada')\n",
    "else:\n",
    "    print('Você nâo está no horario da madrugada')\n"
   ]
  },
  {
   "cell_type": "code",
   "execution_count": 66,
   "id": "1dd0130e",
   "metadata": {},
   "outputs": [
    {
     "name": "stdout",
     "output_type": "stream",
     "text": [
      "Você não está no horario da madrugada\n"
     ]
    }
   ],
   "source": [
    "# Testando a condição em loop com o while:\n",
    "while 0 < horario < 6:\n",
    "    print('Você está no horario da madrugada')\n",
    "    horario = horario + 1\n",
    "else:\n",
    "    print('Você não está no horario da madrugada')"
   ]
  },
  {
   "cell_type": "code",
   "execution_count": 67,
   "id": "1abd5370",
   "metadata": {},
   "outputs": [
    {
     "name": "stdout",
     "output_type": "stream",
     "text": [
      "Digite o numero de pipocas: 3\n",
      "O numero de pipocas é:  3\n",
      "O numero de pipocas é:  2\n",
      "O numero de pipocas é:  1\n"
     ]
    }
   ],
   "source": [
    "# O while permite continuar decrementando o número de pipocas até chegar em 0:\n",
    "num_pipocas = int(input('Digite o numero de pipocas: '))\n",
    "\n",
    "while num_pipocas > 0:\n",
    "    print('O numero de pipocas é: ', num_pipocas)\n",
    "    num_pipocas = num_pipocas - 1\n"
   ]
  },
  {
   "cell_type": "markdown",
   "id": "36cc6d9c",
   "metadata": {},
   "source": [
    "**Validação de entrada**\n",
    "\n",
    "Uma utilidade interessante do **while** é obrigar o usuário a digitar apenas entradas válidas."
   ]
  },
  {
   "cell_type": "code",
   "execution_count": 68,
   "id": "faf57be9",
   "metadata": {},
   "outputs": [
    {
     "name": "stdout",
     "output_type": "stream",
     "text": [
      "Digite seu salario: 2400\n",
      "O salario que você entrou foi:  2400.0\n"
     ]
    }
   ],
   "source": [
    "# o exemplo abaixo não aceita um salário menor do que o mínimo atual:\n",
    "salario = float(input('Digite seu salario: '))\n",
    "while salario < 998.0:\n",
    "    salario = float(input('Entre com um salario MAIOR DO QUE 998.0: '))\n",
    "else:\n",
    "    print('O salario que você entrou foi: ', salario)"
   ]
  },
  {
   "cell_type": "code",
   "execution_count": 69,
   "id": "4366fe7d",
   "metadata": {},
   "outputs": [
    {
     "name": "stdout",
     "output_type": "stream",
     "text": [
      "Digite OK: ok\n",
      "Não foi isso que eu pedi, digite OK: OK\n"
     ]
    }
   ],
   "source": [
    "# o exemplo abaixo só sai do loop quando o usuário digitar \"OK\":\n",
    "resposta = input('Digite OK: ')\n",
    "while resposta != 'OK':\n",
    "    resposta = input('Não foi isso que eu pedi, digite OK: ')"
   ]
  },
  {
   "cell_type": "markdown",
   "id": "8daac27d",
   "metadata": {},
   "source": [
    "**Contador**\n",
    "\n",
    "Todo tipo de código que deve se repetir várias vezes pode ser feito com o while, como somar vários valores, gerar uma sequência etc. Nestes casos, é normal utilizar um contador:"
   ]
  },
  {
   "cell_type": "code",
   "execution_count": 70,
   "id": "0c974856",
   "metadata": {},
   "outputs": [
    {
     "name": "stdout",
     "output_type": "stream",
     "text": [
      "Digite um numero: 2\n",
      "0\n",
      "1\n"
     ]
    }
   ],
   "source": [
    "# Declaramos um contador como 0:\n",
    "contador = 0\n",
    "# Definimos o número de repetições:\n",
    "numero = int(input('Digite um numero: '))\n",
    "# Rodamos o while até o contador se igualar ao número de repetições:\n",
    "while contador < numero:\n",
    "    print(contador)\n",
    "    contador = contador + 1"
   ]
  },
  {
   "cell_type": "markdown",
   "id": "444ea3bd",
   "metadata": {},
   "source": [
    "**Break**\n",
    "\n",
    "Um jeito de forçar um loop a ser interrompido é utilizando o comando 'break'. O loop abaixo em tese seria infinito, mas se a condição do **if for** verificada, o **break** é executado e conseguimos escapar do loop:"
   ]
  },
  {
   "cell_type": "code",
   "execution_count": 71,
   "id": "38600be6",
   "metadata": {},
   "outputs": [
    {
     "name": "stdout",
     "output_type": "stream",
     "text": [
      "Digite OK: ok\n",
      "Digite OK: OK\n"
     ]
    }
   ],
   "source": [
    "while True:\n",
    "    resposta = input('Digite OK: ')\n",
    "    if resposta == 'OK':\n",
    "        break"
   ]
  },
  {
   "cell_type": "code",
   "execution_count": 72,
   "id": "b3f9a308",
   "metadata": {},
   "outputs": [
    {
     "name": "stdout",
     "output_type": "stream",
     "text": [
      "1 Item Limpo! \n",
      "2 Items Limpos!\n",
      "3 Items Limpos!\n",
      "4 Items Limpos!\n",
      "5 Items Limpos!\n",
      "6 Items Limpos!\n",
      "7 Items Limpos!\n",
      "8 Items Limpos!\n",
      "9 Items Limpos!\n",
      "10 Items Limpos!\n",
      "Fim da repetição do bloque while!\n"
     ]
    }
   ],
   "source": [
    "#Prática\n",
    "\n",
    "contador = 0\n",
    "\n",
    "while contador < 10:\n",
    "    contador = contador + 1\n",
    "    if contador == 1:\n",
    "        print(contador, \"Item Limpo! \")\n",
    "    else:\n",
    "        print(contador, \"Items Limpos!\")\n",
    "    \n",
    "print('Fim da repetição do bloque while!')"
   ]
  },
  {
   "cell_type": "code",
   "execution_count": 73,
   "id": "6c240c61",
   "metadata": {},
   "outputs": [
    {
     "name": "stdout",
     "output_type": "stream",
     "text": [
      "1 Item Limpo! \n",
      "2 Items Limpos!\n",
      "3 Items Limpos!\n",
      "4 Items Limpos!\n",
      "5 Items Limpos!\n",
      "6 Items Limpos!\n",
      "7 Items Limpos!\n",
      "8 Items Limpos!\n",
      "9 Items Limpos!\n",
      "10 Items Limpos!\n",
      "Fim da repetição do bloque while!\n"
     ]
    }
   ],
   "source": [
    "contador = 0\n",
    "\n",
    "while True:\n",
    "    if contador < 10:\n",
    "        contador = contador + 1\n",
    "        if contador == 1:\n",
    "            print(contador, \"Item Limpo! \")\n",
    "        else:\n",
    "            print(contador, \"Items Limpos!\")\n",
    "    else:\n",
    "        break\n",
    "    \n",
    "print('Fim da repetição do bloque while!')"
   ]
  },
  {
   "cell_type": "code",
   "execution_count": 74,
   "id": "c861e4a9",
   "metadata": {},
   "outputs": [
    {
     "name": "stdout",
     "output_type": "stream",
     "text": [
      "Digite a sua senha: lescode\n",
      "Senha inválida. Tente novamenteLetscode\n",
      "Senha inválida. Tente novamenteLetsCode\n",
      "Acesso Permitido\n"
     ]
    }
   ],
   "source": [
    "#While. Com validação de entrada\n",
    "\n",
    "texto= input('Digite a sua senha: ')\n",
    "\n",
    "while texto != 'LetsCode':\n",
    "    texto = input('Senha inválida. Tente novamente')\n",
    "    \n",
    "print('Acesso Permitido')"
   ]
  },
  {
   "cell_type": "code",
   "execution_count": 75,
   "id": "b08612ec",
   "metadata": {},
   "outputs": [
    {
     "name": "stdout",
     "output_type": "stream",
     "text": [
      "2 Items Limpos!\n",
      "3 Items Limpos!\n",
      "4 Items Limpos!\n",
      "5 Items Limpos!\n",
      "6 Items Limpos!\n",
      "7 Items Limpos!\n",
      "8 Items Limpos!\n",
      "9 Items Limpos!\n",
      "10 Items Limpos!\n",
      "Fim da repetição do bloque while!\n"
     ]
    }
   ],
   "source": [
    "#Continue\n",
    "contador = 0\n",
    "\n",
    "while contador < 10:\n",
    "    contador = contador + 1\n",
    "    if contador == 1 :\n",
    "        continue\n",
    "    print(contador, \"Items Limpos!\")\n",
    "    \n",
    "print('Fim da repetição do bloque while!')"
   ]
  },
  {
   "cell_type": "code",
   "execution_count": 83,
   "id": "76d45116",
   "metadata": {},
   "outputs": [
    {
     "name": "stdout",
     "output_type": "stream",
     "text": [
      "2 Items Limpos!\n",
      "3 Items Limpos!\n",
      "4 Items Limpos!\n",
      "5 Items Limpos!\n",
      "6 Items Limpos!\n",
      "7 Items Limpos!\n",
      "8 Items Limpos!\n",
      "9 Items Limpos!\n",
      "10 Items Limpos!\n",
      "Fim da repetição do bloque while!\n"
     ]
    }
   ],
   "source": [
    "contador = 0\n",
    "\n",
    "while contador < 10:\n",
    "    contador = contador + 1\n",
    "    if contador == 1:\n",
    "        continue\n",
    "    print(contador, \"Items Limpos!\")\n",
    "    \n",
    "print('Fim da repetição do bloque while!')"
   ]
  },
  {
   "cell_type": "markdown",
   "id": "eb4209b4",
   "metadata": {},
   "source": [
    "**Listas e Tuplas**"
   ]
  },
  {
   "cell_type": "markdown",
   "id": "27a00afe",
   "metadata": {},
   "source": [
    "**Listas**\n",
    "\n",
    "Listas são coleções de objetos em Python. Ao invés de declarar 1 variável para cada valor que gostaríamos de armazenar, podemos criar uma lista para armazenar vários valores.\n"
   ]
  },
  {
   "cell_type": "code",
   "execution_count": 2,
   "id": "bda1f90e",
   "metadata": {},
   "outputs": [],
   "source": [
    "# Criando uma lista vazia.\n",
    "listavazia = []\n"
   ]
  },
  {
   "cell_type": "code",
   "execution_count": 3,
   "id": "2e50a580",
   "metadata": {},
   "outputs": [],
   "source": [
    "# Criando uma lista com alguns valores.\n",
    "numeros = [1, 3, 7, 8, 9]"
   ]
  },
  {
   "cell_type": "code",
   "execution_count": 4,
   "id": "ee16d796",
   "metadata": {},
   "outputs": [],
   "source": [
    "# Listas podem mesclar diferentes tipos de valores.\n",
    "listamista = [14, \"let's code\", 0.1, True]"
   ]
  },
  {
   "cell_type": "code",
   "execution_count": 5,
   "id": "8998452f",
   "metadata": {},
   "outputs": [
    {
     "name": "stdout",
     "output_type": "stream",
     "text": [
      "1\n",
      "3\n",
      "7\n",
      "8\n",
      "9\n"
     ]
    }
   ],
   "source": [
    "# Acessamos cada elemento da lista através de um índice entre colchetes.\n",
    "# Os índices começam em 0.\n",
    "print(numeros[0])\n",
    "print(numeros[1])\n",
    "print(numeros[2])\n",
    "print(numeros[3])\n",
    "print(numeros[4])"
   ]
  },
  {
   "cell_type": "code",
   "execution_count": 6,
   "id": "26baacae",
   "metadata": {},
   "outputs": [
    {
     "name": "stdout",
     "output_type": "stream",
     "text": [
      "[1, 3, 5, 8, 9]\n"
     ]
    }
   ],
   "source": [
    "# Listas são mutáveis: podemos alterar o valor de seus itens.\n",
    "numeros[2] = 5\n",
    "print(numeros)\n"
   ]
  },
  {
   "cell_type": "code",
   "execution_count": 7,
   "id": "0ae541a8",
   "metadata": {},
   "outputs": [
    {
     "name": "stdout",
     "output_type": "stream",
     "text": [
      "1\n",
      "3\n",
      "5\n",
      "8\n",
      "9\n"
     ]
    }
   ],
   "source": [
    "# Um jeito inteligente de trabalhar com listas é utilizando loops.\n",
    "indice = 0\n",
    "while indice < 5:\n",
    "    print(numeros[indice])\n",
    "    indice = indice + 1"
   ]
  },
  {
   "cell_type": "markdown",
   "id": "12b9ac7f",
   "metadata": {},
   "source": [
    "**Funções de listas**\n",
    "\n",
    "Algumas funções podem nos ajudar a trabalhar com listas. Ao percorrermos nossa lista com um while, poderíamos usar len() caso não soubéssemos o comprimento da lista."
   ]
  },
  {
   "cell_type": "markdown",
   "id": "f3762153",
   "metadata": {},
   "source": [
    "indice = 0\n",
    "while indice < len(numeros):\n",
    "    print(numeros[indice])\n",
    "    indice = indice + 1"
   ]
  },
  {
   "cell_type": "markdown",
   "id": "650a5683",
   "metadata": {},
   "source": [
    "Outra função útil é lista.append(), que coloca um elemento novo ao final da lista."
   ]
  },
  {
   "cell_type": "code",
   "execution_count": 11,
   "id": "93b37e25",
   "metadata": {},
   "outputs": [
    {
     "name": "stdout",
     "output_type": "stream",
     "text": [
      "Deseja adicionar um animal à lista (s/n)? s\n",
      "Digite o nome do animal: gato\n",
      "Deseja adicionar um animal à lista (s/n)? n\n",
      "['gato']\n"
     ]
    }
   ],
   "source": [
    "animais = []\n",
    "resposta = 's'\n",
    "while resposta == 's' or resposta == 'S':\n",
    "    resposta = input('Deseja adicionar um animal à lista (s/n)? ')\n",
    "    if (resposta == 's' or resposta == 'S'):\n",
    "        animal = input('Digite o nome do animal: ')\n",
    "        animais.append(animal) # adiciona o novo animal à lista\n",
    "print(animais)"
   ]
  },
  {
   "cell_type": "markdown",
   "id": "6f9b14e3",
   "metadata": {},
   "source": [
    "A função lista.remove() deleta um elemento da lista. (mas dá erro se o elemento não existir)."
   ]
  },
  {
   "cell_type": "code",
   "execution_count": 13,
   "id": "c9251e95",
   "metadata": {},
   "outputs": [
    {
     "name": "stdout",
     "output_type": "stream",
     "text": [
      "Digite o animal a ser deletado da lista: gato\n",
      "[]\n"
     ]
    }
   ],
   "source": [
    "animal = input('Digite o animal a ser deletado da lista: ')\n",
    "animais.remove(animal)\n",
    "print(animais)"
   ]
  },
  {
   "cell_type": "markdown",
   "id": "a9bd3956",
   "metadata": {},
   "source": [
    "Algumas outras funções úteis:\n",
    "\n",
    "- lista.count() conta quantas vezes um elemento aparece."
   ]
  },
  {
   "cell_type": "code",
   "execution_count": 14,
   "id": "12e4c404",
   "metadata": {},
   "outputs": [
    {
     "name": "stdout",
     "output_type": "stream",
     "text": [
      "['Ronaldo', 'Rivaldo', 'Ronaldo', 'Adriano']\n",
      "Quantidade de Ronaldos:  2\n"
     ]
    }
   ],
   "source": [
    "jogadores = ['Ronaldo', 'Rivaldo', 'Ronaldo', 'Adriano']\n",
    "ronaldos = jogadores.count('Ronaldo')\n",
    "print(jogadores)\n",
    "print('Quantidade de Ronaldos: ', ronaldos)"
   ]
  },
  {
   "cell_type": "markdown",
   "id": "34d2ed37",
   "metadata": {},
   "source": [
    "- lista.index() busca em um elemento e fala em qual posição ele aparece."
   ]
  },
  {
   "cell_type": "code",
   "execution_count": 15,
   "id": "655026a3",
   "metadata": {},
   "outputs": [
    {
     "name": "stdout",
     "output_type": "stream",
     "text": [
      "Rivaldo está na posição  1\n"
     ]
    }
   ],
   "source": [
    "rivaldo = jogadores.index('Rivaldo')\n",
    "print(\"Rivaldo está na posição \", rivaldo)"
   ]
  },
  {
   "cell_type": "markdown",
   "id": "e82483d4",
   "metadata": {},
   "source": [
    "- lista.sort() ordena uma lista."
   ]
  },
  {
   "cell_type": "code",
   "execution_count": 16,
   "id": "628d0f4a",
   "metadata": {},
   "outputs": [
    {
     "name": "stdout",
     "output_type": "stream",
     "text": [
      "jogadores em ordem alfabética:  ['Adriano', 'Rivaldo', 'Ronaldo', 'Ronaldo']\n"
     ]
    }
   ],
   "source": [
    "jogadores.sort()\n",
    "print(\"jogadores em ordem alfabética: \", jogadores)"
   ]
  },
  {
   "cell_type": "markdown",
   "id": "d044ef8c",
   "metadata": {},
   "source": [
    "- As funções max(lista) e min(lista) obtém, respectivamente, o maior e o menor valor."
   ]
  },
  {
   "cell_type": "code",
   "execution_count": 17,
   "id": "0cb3f2c3",
   "metadata": {},
   "outputs": [
    {
     "name": "stdout",
     "output_type": "stream",
     "text": [
      "[3, 1, 4, 1, 5, 9, 2, 6, 5]\n",
      "Maior =  9 e menor =  1\n"
     ]
    }
   ],
   "source": [
    "digitos = [3, 1, 4, 1, 5, 9, 2, 6, 5]\n",
    "maior = max(digitos)\n",
    "menor = min(digitos)\n",
    "print(digitos)\n",
    "print(\"Maior = \", maior, \"e menor = \", menor)"
   ]
  },
  {
   "cell_type": "markdown",
   "id": "1c631228",
   "metadata": {},
   "source": [
    "**Tuplas**"
   ]
  },
  {
   "cell_type": "code",
   "execution_count": 19,
   "id": "c6814182",
   "metadata": {},
   "outputs": [],
   "source": [
    "# Uma tupla é uma coleção de objetos que lembra muito as listas.\n",
    "\n",
    "# Ao invés de colchetes, usamos parênteses para declarar as tuplas:\n",
    "numeros = (1,2,3,5,7,11)\n"
   ]
  },
  {
   "cell_type": "code",
   "execution_count": 20,
   "id": "92d98290",
   "metadata": {},
   "outputs": [],
   "source": [
    "# Podemos declarar sem parênteses também:\n",
    "numeros = 1,2,3,5,7,11"
   ]
  },
  {
   "cell_type": "code",
   "execution_count": 21,
   "id": "98d0e5fb",
   "metadata": {},
   "outputs": [
    {
     "name": "stdout",
     "output_type": "stream",
     "text": [
      "7\n",
      "<class 'tuple'>\n"
     ]
    }
   ],
   "source": [
    "# Para acessar um valor, utilizamos a mesma sintaxe das listas:\n",
    "print(numeros[4])\n",
    "print(type(numeros))"
   ]
  },
  {
   "cell_type": "code",
   "execution_count": 22,
   "id": "4bffc63b",
   "metadata": {},
   "outputs": [
    {
     "name": "stdout",
     "output_type": "stream",
     "text": [
      "(3, 1, 4, 1, 5, 9, 2, 6, 5)\n"
     ]
    }
   ],
   "source": [
    "'''\n",
    "Porém, tuplas são imutáveis: não é possível adicionar ou modificar valores.\n",
    "Descomentar a linha abaixo provocará erro de execução:\n",
    "'''\n",
    "# numeros[4] = 8\n",
    "\n",
    "# Podemos gerar uma tupla a partir de uma lista...\n",
    "lista1 = [3, 1, 4, 1, 5, 9, 2, 6, 5]\n",
    "tupla1 = tuple(lista1)\n",
    "print(tupla1)"
   ]
  },
  {
   "cell_type": "code",
   "execution_count": 23,
   "id": "52dcc0be",
   "metadata": {},
   "outputs": [
    {
     "name": "stdout",
     "output_type": "stream",
     "text": [
      "[1, 6, 1, 8]\n"
     ]
    }
   ],
   "source": [
    "# ...ou uma lista a partir de uma tupla:\n",
    "tupla2 = [1, 6, 1, 8]\n",
    "lista2 = list(tupla2)\n",
    "print(lista2)"
   ]
  },
  {
   "cell_type": "code",
   "execution_count": 24,
   "id": "c49d3efa",
   "metadata": {},
   "outputs": [
    {
     "name": "stdout",
     "output_type": "stream",
     "text": [
      "O primeiro vale: 1 e o ultimo vale: 11\n"
     ]
    }
   ],
   "source": [
    "# Também pode-se usar o unpacking com uma tupla:\n",
    "a, b, c, d, e, f = numeros # \"desempacota\" a tupla numeros\n",
    "print(\"O primeiro vale:\", a, \"e o ultimo vale:\", f)"
   ]
  },
  {
   "cell_type": "markdown",
   "id": "287af5ff",
   "metadata": {},
   "source": [
    "Listas Treino\n"
   ]
  },
  {
   "cell_type": "code",
   "execution_count": 40,
   "id": "769edb38",
   "metadata": {},
   "outputs": [
    {
     "name": "stdout",
     "output_type": "stream",
     "text": [
      "['Brasil', 'Argentina', 'China', 'Canadá', 'Japão']\n"
     ]
    }
   ],
   "source": [
    "#declaração de lista\n",
    "nomes_paises = ['Brasil', 'Argentina', 'China', 'Canadá', 'Japão']\n",
    "print(nomes_paises)"
   ]
  },
  {
   "cell_type": "code",
   "execution_count": 41,
   "id": "8fed6319",
   "metadata": {},
   "outputs": [
    {
     "name": "stdout",
     "output_type": "stream",
     "text": [
      "Tamanho da lista:  5\n"
     ]
    }
   ],
   "source": [
    "#tamanho de uma lista,empregando a funsão len\n",
    "print('Tamanho da lista: ', len(nomes_paises))"
   ]
  },
  {
   "cell_type": "code",
   "execution_count": 42,
   "id": "a8aa9a3c",
   "metadata": {},
   "outputs": [
    {
     "name": "stdout",
     "output_type": "stream",
     "text": [
      "Pais:  Japão\n"
     ]
    }
   ],
   "source": [
    "#indexação base 0 , procurando o Japão\n",
    "print('Pais: ', nomes_paises[4])"
   ]
  },
  {
   "cell_type": "code",
   "execution_count": 43,
   "id": "7177e84a",
   "metadata": {},
   "outputs": [
    {
     "name": "stdout",
     "output_type": "stream",
     "text": [
      "País:  Japão\n"
     ]
    }
   ],
   "source": [
    "#Ultimo item da lista, index negativo\n",
    "print('País: ', nomes_paises[-1])"
   ]
  },
  {
   "cell_type": "code",
   "execution_count": 44,
   "id": "7af66e97",
   "metadata": {},
   "outputs": [
    {
     "name": "stdout",
     "output_type": "stream",
     "text": [
      "Pais:  Colómbia\n",
      "['Brasil', 'Argentina', 'China', 'Canadá', 'Colómbia']\n"
     ]
    }
   ],
   "source": [
    "#Trocando um valor da lista, sustituindo um valor\n",
    "nomes_paises[4]= 'Colómbia'\n",
    "print('Pais: ', nomes_paises[4])\n",
    "print(nomes_paises)"
   ]
  },
  {
   "cell_type": "code",
   "execution_count": 45,
   "id": "5418fe15",
   "metadata": {},
   "outputs": [
    {
     "name": "stdout",
     "output_type": "stream",
     "text": [
      "['Argentina', 'China']\n"
     ]
    }
   ],
   "source": [
    "#faxamento \n",
    "print(nomes_paises[1:3])"
   ]
  },
  {
   "cell_type": "code",
   "execution_count": null,
   "id": "203e7410",
   "metadata": {},
   "outputs": [],
   "source": [
    "#faxamento \n",
    "print(nomes_paises[1:3])"
   ]
  },
  {
   "cell_type": "code",
   "execution_count": 46,
   "id": "fbce995c",
   "metadata": {},
   "outputs": [
    {
     "name": "stdout",
     "output_type": "stream",
     "text": [
      "['Argentina', 'China', 'Canadá']\n"
     ]
    }
   ],
   "source": [
    "#faxamento \n",
    "print(nomes_paises[1:-1])"
   ]
  },
  {
   "cell_type": "code",
   "execution_count": 47,
   "id": "55220bbd",
   "metadata": {},
   "outputs": [
    {
     "name": "stdout",
     "output_type": "stream",
     "text": [
      "['China', 'Canadá', 'Colómbia']\n"
     ]
    }
   ],
   "source": [
    "#omitir o index final\n",
    "print(nomes_paises[2:])"
   ]
  },
  {
   "cell_type": "code",
   "execution_count": 48,
   "id": "02cf5ca4",
   "metadata": {},
   "outputs": [
    {
     "name": "stdout",
     "output_type": "stream",
     "text": [
      "['Brasil', 'Argentina', 'China']\n"
     ]
    }
   ],
   "source": [
    "#omitir o index inicial\n",
    "print(nomes_paises[:3])"
   ]
  },
  {
   "cell_type": "code",
   "execution_count": 49,
   "id": "ba5b5201",
   "metadata": {},
   "outputs": [
    {
     "name": "stdout",
     "output_type": "stream",
     "text": [
      "['Brasil', 'Argentina', 'China', 'Canadá', 'Colómbia']\n"
     ]
    }
   ],
   "source": [
    "#omitir ambos index \n",
    "print(nomes_paises[:])"
   ]
  },
  {
   "cell_type": "code",
   "execution_count": 50,
   "id": "7d981a44",
   "metadata": {},
   "outputs": [
    {
     "name": "stdout",
     "output_type": "stream",
     "text": [
      "['Brasil', 'China', 'Colómbia']\n"
     ]
    }
   ],
   "source": [
    "#pular elemetos stping\n",
    "print(nomes_paises[::2])"
   ]
  },
  {
   "cell_type": "code",
   "execution_count": 51,
   "id": "f8ed6c57",
   "metadata": {},
   "outputs": [
    {
     "name": "stdout",
     "output_type": "stream",
     "text": [
      "['Colómbia', 'Canadá', 'China', 'Argentina', 'Brasil']\n"
     ]
    }
   ],
   "source": [
    "#invertir os index de uma lista\n",
    "\n",
    "print(nomes_paises[::-1])"
   ]
  },
  {
   "cell_type": "code",
   "execution_count": 52,
   "id": "2cfc42e3",
   "metadata": {},
   "outputs": [
    {
     "name": "stdout",
     "output_type": "stream",
     "text": [
      "True\n"
     ]
    }
   ],
   "source": [
    "#chequear elementos, operador in do python\n",
    "print('Brasil' in nomes_paises)"
   ]
  },
  {
   "cell_type": "code",
   "execution_count": 55,
   "id": "cbbfbf18",
   "metadata": {},
   "outputs": [
    {
     "name": "stdout",
     "output_type": "stream",
     "text": [
      "False\n"
     ]
    }
   ],
   "source": [
    "#chequear elementos, operador not in do python\n",
    "print('Canadá' not in nomes_paises)"
   ]
  },
  {
   "cell_type": "code",
   "execution_count": 56,
   "id": "87afd458",
   "metadata": {},
   "outputs": [],
   "source": [
    "#adicionar elemetos\n",
    "#creando lista vacia.\n",
    "lista_capitais = []"
   ]
  },
  {
   "cell_type": "code",
   "execution_count": 57,
   "id": "7e814133",
   "metadata": {},
   "outputs": [],
   "source": [
    "#metodo de lista para adicionar en la lista\n",
    "lista_capitais.append('Brasília')"
   ]
  },
  {
   "cell_type": "code",
   "execution_count": 60,
   "id": "e9d27cbf",
   "metadata": {},
   "outputs": [
    {
     "name": "stdout",
     "output_type": "stream",
     "text": [
      "['Brasília', 'Brasília', 'Brasília', 'Buenos Aire', 'Pequím', 'Bogotá']\n"
     ]
    }
   ],
   "source": [
    "lista_capitais.append('Brasília')\n",
    "lista_capitais.append('Buenos Aire')\n",
    "lista_capitais.append('Pequím')\n",
    "lista_capitais.append('Bogotá')\n",
    "print(lista_capitais)"
   ]
  },
  {
   "cell_type": "code",
   "execution_count": 61,
   "id": "4c17df09",
   "metadata": {},
   "outputs": [
    {
     "name": "stdout",
     "output_type": "stream",
     "text": [
      "['Brasília', 'Brasília', 'París', 'Brasília', 'Buenos Aire', 'Pequím', 'Bogotá']\n"
     ]
    }
   ],
   "source": [
    "#inserir em uma possição especifica da lista metodo insert\n",
    "lista_capitais.insert(2,'París')\n",
    "print(lista_capitais)"
   ]
  },
  {
   "cell_type": "code",
   "execution_count": 63,
   "id": "54b4021d",
   "metadata": {},
   "outputs": [
    {
     "name": "stdout",
     "output_type": "stream",
     "text": [
      "['Brasília', 'París', 'Brasília', 'Buenos Aire', 'Pequím', 'Bogotá']\n"
     ]
    }
   ],
   "source": [
    "#Remover o deleitar, metodo remove\n",
    "lista_capitais.remove('Brasília')\n",
    "print(lista_capitais)"
   ]
  },
  {
   "cell_type": "code",
   "execution_count": 64,
   "id": "d0abe2f1",
   "metadata": {},
   "outputs": [
    {
     "name": "stdout",
     "output_type": "stream",
     "text": [
      "['París', 'Brasília', 'Buenos Aire', 'Pequím', 'Bogotá']\n"
     ]
    }
   ],
   "source": [
    "#Remover o deleitar, metodo remove\n",
    "lista_capitais.remove('Brasília')\n",
    "print(lista_capitais)"
   ]
  },
  {
   "cell_type": "code",
   "execution_count": 65,
   "id": "03a8e07e",
   "metadata": {},
   "outputs": [
    {
     "name": "stdout",
     "output_type": "stream",
     "text": [
      "['París', 'Brasília', 'Pequím', 'Bogotá']\n"
     ]
    }
   ],
   "source": [
    "#Remover o deleitar, metodo remove\n",
    "lista_capitais.remove('Buenos Aire')\n",
    "print(lista_capitais)"
   ]
  },
  {
   "cell_type": "code",
   "execution_count": 66,
   "id": "45222f93",
   "metadata": {},
   "outputs": [
    {
     "name": "stdout",
     "output_type": "stream",
     "text": [
      "['París', 'Brasília', 'Bogotá'] Pequím\n"
     ]
    }
   ],
   "source": [
    "#Remover o deleitar por posisão, metodo pop, es importante que ele sempre retorna o item removido\n",
    "removido = lista_capitais.pop(2)\n",
    "print(lista_capitais, removido)"
   ]
  },
  {
   "cell_type": "markdown",
   "id": "f4aae82e",
   "metadata": {},
   "source": [
    "Tuplas treino"
   ]
  },
  {
   "cell_type": "markdown",
   "id": "b147ad5a",
   "metadata": {},
   "source": [
    "Pode ser definida como uma sequencia ou coleção de valores ordenados. A index de base 0 também vale para está estructura de dados, a diferencia de as listas é a flexivilidade. Enquanto a uma lista a gente pode inserir dados, remover dados, alterar dados que já estão dentro. Em uma Tupla ne uma de essa operações são permitidas. As Tuplas são inalteravel.\n",
    "Tem implementações que aslista não poseem e a rigidez em quantoao almacenamento."
   ]
  },
  {
   "cell_type": "code",
   "execution_count": 67,
   "id": "1177096f",
   "metadata": {},
   "outputs": [
    {
     "name": "stdout",
     "output_type": "stream",
     "text": [
      "('Brasil', 'Argentina', 'China', 'Canadá', 'Japão') <class 'tuple'>\n"
     ]
    }
   ],
   "source": [
    "#declaração de uma Tupla\n",
    "nomes_paises1 = ('Brasil', 'Argentina', 'China', 'Canadá', 'Japão')\n",
    "print(nomes_paises1, type(nomes_paises1))"
   ]
  },
  {
   "cell_type": "code",
   "execution_count": 68,
   "id": "06714f54",
   "metadata": {},
   "outputs": [
    {
     "name": "stdout",
     "output_type": "stream",
     "text": [
      "('Brasil', 'Argentina', 'China', 'Canadá', 'Japão') <class 'tuple'>\n"
     ]
    }
   ],
   "source": [
    "nomes_paises2 = 'Brasil', 'Argentina', 'China', 'Canadá', 'Japão'\n",
    "print(nomes_paises2, type(nomes_paises2))"
   ]
  },
  {
   "cell_type": "code",
   "execution_count": 69,
   "id": "7a939848",
   "metadata": {},
   "outputs": [
    {
     "name": "stdout",
     "output_type": "stream",
     "text": [
      "('São Paulo',) <class 'tuple'>\n"
     ]
    }
   ],
   "source": [
    "#Não faz sentido declara uma tupla vacia, mais pode declarar com só um elemento\n",
    "\n",
    "nome_estado = 'São Paulo',\n",
    "print(nome_estado, type(nome_estado))"
   ]
  },
  {
   "cell_type": "code",
   "execution_count": 70,
   "id": "a6362c9e",
   "metadata": {},
   "outputs": [],
   "source": [
    "#ventagem, colocar todo os elemetos da tupla em uma variable, (unpacking)\n",
    "\n",
    "b, a, c, ca, j = nomes_paises1\n"
   ]
  },
  {
   "cell_type": "code",
   "execution_count": 71,
   "id": "cdae5c08",
   "metadata": {},
   "outputs": [
    {
     "name": "stdout",
     "output_type": "stream",
     "text": [
      "Brasil Argentina China Canadá Japão\n"
     ]
    }
   ],
   "source": [
    "print(b, a, c, ca, j )"
   ]
  },
  {
   "cell_type": "code",
   "execution_count": 72,
   "id": "f66ab112",
   "metadata": {},
   "outputs": [
    {
     "name": "stdout",
     "output_type": "stream",
     "text": [
      "Brasil Argentina China Canadá Japão\n"
     ]
    }
   ],
   "source": [
    "# unpacking\n",
    "print(*nomes_paises2)"
   ]
  },
  {
   "cell_type": "markdown",
   "id": "71f703f0",
   "metadata": {},
   "source": [
    "**Strings I**"
   ]
  },
  {
   "cell_type": "markdown",
   "id": "7890e6ce",
   "metadata": {},
   "source": [
    "**Funções de strings**"
   ]
  },
  {
   "cell_type": "code",
   "execution_count": 74,
   "id": "3a0ab530",
   "metadata": {},
   "outputs": [],
   "source": [
    "# Suponhamos que temos a seguinte string:\n",
    "\n",
    "frase = 'uma FRASE'\n"
   ]
  },
  {
   "cell_type": "code",
   "execution_count": 75,
   "id": "4542bde1",
   "metadata": {},
   "outputs": [
    {
     "name": "stdout",
     "output_type": "stream",
     "text": [
      "u\n",
      "m\n",
      "a\n"
     ]
    }
   ],
   "source": [
    "# Podemos acessar individualmente cada caractere em uma frase.\n",
    "# A ideia é a mesma de acessar uma lista:\n",
    "print(frase[0])\n",
    "print(frase[1])\n",
    "print(frase[2])"
   ]
  },
  {
   "cell_type": "code",
   "execution_count": 76,
   "id": "3da42623",
   "metadata": {},
   "outputs": [
    {
     "name": "stdout",
     "output_type": "stream",
     "text": [
      "A frase possui 9 caracteres\n"
     ]
    }
   ],
   "source": [
    "tamanho = len(frase)\n",
    "print(\"A frase possui\", tamanho, \"caracteres\")"
   ]
  },
  {
   "cell_type": "code",
   "execution_count": 77,
   "id": "28c99b4e",
   "metadata": {},
   "outputs": [
    {
     "name": "stdout",
     "output_type": "stream",
     "text": [
      "['u', 'm', 'a', ' ', 'F', 'R', 'A', 'S', 'E']\n"
     ]
    }
   ],
   "source": [
    "# Porém, strings são imutáveis: não podemos alterar caracteres individuais\n",
    "# A linha abaixo, se for descomentada, dará erro no programa:\n",
    "# frase[4] = 'C'\n",
    "\n",
    "# Podemos converter strings para listas:\n",
    "listafrase = list(frase)\n",
    "print(listafrase)\n"
   ]
  },
  {
   "cell_type": "code",
   "execution_count": 78,
   "id": "14ccad3c",
   "metadata": {},
   "outputs": [
    {
     "name": "stdout",
     "output_type": "stream",
     "text": [
      "u-pym-pya-py -pyF-pyR-pyA-pyS-pyE\n"
     ]
    }
   ],
   "source": [
    "# A função join() intercala cada elemento de uma lista com uma string.\n",
    "stringfinal = '-py'.join(listafrase)\n",
    "print(stringfinal)"
   ]
  },
  {
   "cell_type": "code",
   "execution_count": 79,
   "id": "5470d1c3",
   "metadata": {},
   "outputs": [
    {
     "name": "stdout",
     "output_type": "stream",
     "text": [
      "uma FRASE\n"
     ]
    }
   ],
   "source": [
    "# Usar um join() com uma string vazia é útil para transformar a lista de volta\n",
    "# em string:\n",
    "stringfinal = ''.join(listafrase)\n",
    "print(stringfinal)"
   ]
  },
  {
   "cell_type": "code",
   "execution_count": 80,
   "id": "2ec5bc83",
   "metadata": {},
   "outputs": [
    {
     "name": "stdout",
     "output_type": "stream",
     "text": [
      "Uma frase\n",
      "Uma Frase\n",
      "UMA FRASE\n",
      "uma frase\n",
      "uma CRASE\n"
     ]
    }
   ],
   "source": [
    "# Existem algumas funções interessantes que retornam a string \"tratada\":\n",
    "s1 = frase.capitalize() # 1a letra maiúscula, restante minúscula\n",
    "s2 = frase.title() # todo início de palavra em maiúscula, resto minúscula\n",
    "s3 = frase.upper() # string inteira em maiúscula\n",
    "s4 = frase.lower() # string inteira em minúscula\n",
    "s5 = frase.replace('F', 'C') # substitui a primeira substring pela segunda\n",
    "\n",
    "print(s1)\n",
    "print(s2)\n",
    "print(s3)\n",
    "print(s4)\n",
    "print(s5)"
   ]
  },
  {
   "cell_type": "code",
   "execution_count": 81,
   "id": "6b1fc1d9",
   "metadata": {},
   "outputs": [
    {
     "name": "stdout",
     "output_type": "stream",
     "text": [
      "String original: uma FRASE\n"
     ]
    }
   ],
   "source": [
    "# Note que NENHUMA delas ALTERA a string original, elas sempre retornam\n",
    "# a string nova.\n",
    "print('String original:', frase)"
   ]
  },
  {
   "cell_type": "code",
   "execution_count": 82,
   "id": "08d2ede4",
   "metadata": {},
   "outputs": [
    {
     "name": "stdout",
     "output_type": "stream",
     "text": [
      "['uma', 'FRASE']\n",
      "['UM', ' FR', 'SE']\n"
     ]
    }
   ],
   "source": [
    "\n",
    "\n",
    "# Outra possibilidade com strings é quebrar a string em uma lista de substrings\n",
    "# Sempre que o caractere especificado é encontrado, a string é quebrada\n",
    "quebra1 = frase.split(' ') # quebra a frase no caractere espaço em branco\n",
    "quebra2 = s3.split('A') # quebra a frase em maiúsculas no caractere 'A'\n",
    "\n",
    "print(quebra1)\n",
    "print(quebra2)"
   ]
  },
  {
   "cell_type": "code",
   "execution_count": 83,
   "id": "21a788bd",
   "metadata": {},
   "outputs": [
    {
     "name": "stdout",
     "output_type": "stream",
     "text": [
      "uma\n",
      "FRASE\n"
     ]
    }
   ],
   "source": [
    "# Podemos inserir quebras de linha com '\\n'\n",
    "frase = 'uma\\nFRASE'\n",
    "print(frase)"
   ]
  },
  {
   "cell_type": "code",
   "execution_count": 84,
   "id": "4f528c3f",
   "metadata": {},
   "outputs": [
    {
     "name": "stdout",
     "output_type": "stream",
     "text": [
      "uma\n",
      "\tFRASE\n"
     ]
    }
   ],
   "source": [
    "# Podemos inserir tabulação com '\\t'\n",
    "frase = 'uma\\n\\tFRASE'\n",
    "print(frase)"
   ]
  },
  {
   "cell_type": "code",
   "execution_count": 86,
   "id": "768861f2",
   "metadata": {},
   "outputs": [
    {
     "name": "stdout",
     "output_type": "stream",
     "text": [
      "uma\\FRASE\n"
     ]
    }
   ],
   "source": [
    "# Para conseguir representar a barra '\\', precisamos de 2 barras:\n",
    "frase = 'uma\\\\FRASE'\n",
    "print(frase)"
   ]
  },
  {
   "cell_type": "markdown",
   "id": "92a56d0a",
   "metadata": {},
   "source": [
    "Strings Treino"
   ]
  },
  {
   "cell_type": "code",
   "execution_count": 1,
   "id": "7d203a42",
   "metadata": {},
   "outputs": [
    {
     "name": "stdout",
     "output_type": "stream",
     "text": [
      "Let's Code\n"
     ]
    }
   ],
   "source": [
    "empresa= \"Let's Code\"\n",
    "print(empresa)"
   ]
  },
  {
   "cell_type": "code",
   "execution_count": 4,
   "id": "e94a6e17",
   "metadata": {},
   "outputs": [
    {
     "name": "stdout",
     "output_type": "stream",
     "text": [
      "O professor Pietro da Let's Code disse: \"Hoje a pizza é por minha conta\" \n"
     ]
    }
   ],
   "source": [
    "frase = \"O professor Pietro da Let's Code disse: \\\"Hoje a pizza é por minha conta\\\" \" \n",
    "print(frase)"
   ]
  },
  {
   "cell_type": "code",
   "execution_count": 5,
   "id": "c42349dd",
   "metadata": {},
   "outputs": [
    {
     "name": "stdout",
     "output_type": "stream",
     "text": [
      "G\n"
     ]
    }
   ],
   "source": [
    "empresa = 'Google'\n",
    "print(empresa[0])"
   ]
  },
  {
   "cell_type": "code",
   "execution_count": 6,
   "id": "6710f26e",
   "metadata": {},
   "outputs": [
    {
     "name": "stdout",
     "output_type": "stream",
     "text": [
      "Goo\n"
     ]
    }
   ],
   "source": [
    "print(empresa[:3])"
   ]
  },
  {
   "cell_type": "code",
   "execution_count": 11,
   "id": "cd87ebfb",
   "metadata": {},
   "outputs": [
    {
     "name": "stdout",
     "output_type": "stream",
     "text": [
      "['São Paulo', 'Belo Horizonte', 'Rio de Janeiro', 'Brasília']\n"
     ]
    }
   ],
   "source": [
    "#metodo split para script\n",
    "nome_cidades= \"São Paulo, Belo Horizonte, Rio de Janeiro, Brasília\"\n",
    "nome_cidades = nome_cidades.split(', ')\n",
    "print(nome_cidades)"
   ]
  },
  {
   "cell_type": "code",
   "execution_count": 12,
   "id": "7933d703",
   "metadata": {},
   "outputs": [
    {
     "name": "stdout",
     "output_type": "stream",
     "text": [
      "MENU PRINCIPAL\n"
     ]
    }
   ],
   "source": [
    "#metodo sprip para script\n",
    "\n",
    "cabecalho = \"              MENU PRINCIPAL          \"\n",
    "print(cabecalho.strip())"
   ]
  },
  {
   "cell_type": "code",
   "execution_count": 13,
   "id": "0959492a",
   "metadata": {},
   "outputs": [
    {
     "name": "stdout",
     "output_type": "stream",
     "text": [
      "Rio De Janeiro\n",
      "Rio de janeiro\n",
      "rio de janeiro\n",
      "RIO DE JANEIRO\n"
     ]
    }
   ],
   "source": [
    "#metodos de variação de caixa \n",
    "nome_cidade= 'rIo DE JanEiRo'\n",
    "\n",
    "print(nome_cidade.title())#Rio De Janeiro - Titulo\n",
    "print(nome_cidade.capitalize())#Rio de janeiro - Poe só apenas a primeira en caixa alta \n",
    "print(nome_cidade.lower())#rio de janeiro - minuscula\n",
    "print(nome_cidade.upper())#RIO DE JANEIRO - maiusculo"
   ]
  },
  {
   "cell_type": "code",
   "execution_count": 17,
   "id": "0e2bef24",
   "metadata": {},
   "outputs": [
    {
     "name": "stdout",
     "output_type": "stream",
     "text": [
      "Que Cidade do Brasil é conhecida como cidade maravilhosa? RIO DE JAneiro\n",
      "Boaa, campeão!\n"
     ]
    }
   ],
   "source": [
    "nome_cidade= input('Que Cidade do Brasil é conhecida como cidade maravilhosa? ')\n",
    "nome_cidade= nome_cidade.strip()\n",
    "while nome_cidade.lower() != 'rio de janeiro':\n",
    "    print('Tenta de Novo!, vai...')\n",
    "    nome_cidade= input('Que Cidade do Brasil é conhecida como cidade maravilhosa? ')\n",
    "    \n",
    "print('Boaa, campeão!')"
   ]
  },
  {
   "cell_type": "code",
   "execution_count": 19,
   "id": "5010072c",
   "metadata": {},
   "outputs": [
    {
     "name": "stdout",
     "output_type": "stream",
     "text": [
      "False\n"
     ]
    }
   ],
   "source": [
    "mensagem= ' Você viu o que Pietro disse na sala ontem? '\n",
    "fui_citado = 'Felipe' in mensagem\n",
    "print(fui_citado)"
   ]
  },
  {
   "cell_type": "markdown",
   "id": "e1e9182f",
   "metadata": {},
   "source": [
    "**Strings II**\n",
    "\n",
    "**Uso de operadores aritméticos com strings**"
   ]
  },
  {
   "cell_type": "code",
   "execution_count": 20,
   "id": "18646de9",
   "metadata": {},
   "outputs": [
    {
     "name": "stdout",
     "output_type": "stream",
     "text": [
      "Let'sCode\n"
     ]
    }
   ],
   "source": [
    "# Dois operadores aritméticos possuem um comportamento especial em strings:\n",
    "# Operador de soma (+): concatena (une) 2 strings.\n",
    "palavra1 = \"Let's\"\n",
    "palavra2 = \"Code\"\n",
    "palavra3 = palavra1 + palavra2\n",
    "print(palavra3)"
   ]
  },
  {
   "cell_type": "code",
   "execution_count": 21,
   "id": "fdea4ae8",
   "metadata": {},
   "outputs": [
    {
     "name": "stdout",
     "output_type": "stream",
     "text": [
      "umaumauma\n"
     ]
    }
   ],
   "source": [
    "# Operador de multiplicação (*): copia uma string 'n' vezes:\n",
    "palavra = 'uma'\n",
    "trespalavras = 3*palavra\n",
    "print(trespalavras)"
   ]
  },
  {
   "cell_type": "markdown",
   "id": "37b7af65",
   "metadata": {},
   "source": [
    "Formatação de strings\n",
    "Uma última função interessante de strings é o .format() Para entender como ela funciona, podemos pensar em um contrato. É normal que ele venha com campos em branco para serem preenchidos posteriormente. Ex:\n",
    "\n",
    "Eu, ______________, portador do RG ________________ e nascido ao dia //, autorizo o uso de minha imagem.\n",
    "\n",
    "Ao inserirmos no contrato nossas informações pessoais, ele se torna completo.\n",
    "\n",
    "O .format() serve para \"preencher\" os \"campos em branco\" de uma string.\n",
    "\n",
    "Os campos em branco serão representados por pares de chave: {}"
   ]
  },
  {
   "cell_type": "code",
   "execution_count": 29,
   "id": "290df7f6",
   "metadata": {},
   "outputs": [
    {
     "name": "stdout",
     "output_type": "stream",
     "text": [
      "O produto chocolate custa 3.14.\n"
     ]
    }
   ],
   "source": [
    "prod = 'chocolate'\n",
    "preco = 3.14\n",
    "print('O produto {} custa {}.'.format(prod, preco))\n",
    "\n",
    "# Na linha acima, prod substituirá o primeiro {}, e preco o segundo {}.\n",
    "# Saída: O produto chocolate custa 3.14.\n"
   ]
  },
  {
   "cell_type": "code",
   "execution_count": 23,
   "id": "53c4fe22",
   "metadata": {},
   "outputs": [
    {
     "name": "stdout",
     "output_type": "stream",
     "text": [
      "O litro da gasolina custa 3.14\n"
     ]
    }
   ],
   "source": [
    "# É possível colocar algumas opções especiais de formatação. Por exemplo:\n",
    "\n",
    "stringoriginal = 'O litro da gasolina custa {:.2f}'\n",
    "'''\n",
    ": indica que passaremos opções\n",
    ".2 indica apenas 2 casas após o ponto decimal\n",
    "f indica que é um float\n",
    "'''\n",
    "preco = 3.14159265\n",
    "stringcompleta = stringoriginal.format(preco)\n",
    "print(stringcompleta)\n",
    "# Saída: O litro da gasolina custa 3.14\n",
    "# O preço sai com apenas 2 casas após a vírgula!"
   ]
  },
  {
   "cell_type": "code",
   "execution_count": 24,
   "id": "ff338b08",
   "metadata": {},
   "outputs": [
    {
     "name": "stdout",
     "output_type": "stream",
     "text": [
      "c, b and a\n",
      "abracadabra\n"
     ]
    }
   ],
   "source": [
    "# Pode-se chamar as variávies em diferentes ordens:\n",
    "\n",
    "print('{2}, {1} and {0}'.format('a', 'b', 'c'))\n",
    "# Saída: c, b and a\n",
    "\n",
    "print('{0}{1}{0}'.format('abra', 'cad'))\n",
    "# Saída: abracadabra"
   ]
  },
  {
   "cell_type": "code",
   "execution_count": 25,
   "id": "59de9503",
   "metadata": {},
   "outputs": [
    {
     "name": "stdout",
     "output_type": "stream",
     "text": [
      "1/8/2019\n"
     ]
    }
   ],
   "source": [
    "# Podemos especificar um número de dígitos obrigatório por campo.\n",
    "# Vejamos o exemplo:\n",
    "\n",
    "dia = 1\n",
    "mes = 8\n",
    "ano = 2019\n",
    "data1 = '{}/{}/{}'.format(dia, mes, ano)\n",
    "print(data1)\n",
    "# Saída: 1/8/2019\n",
    "# O dia e o mês ocupam apenas 1 espaço\n"
   ]
  },
  {
   "cell_type": "code",
   "execution_count": 26,
   "id": "fc231d22",
   "metadata": {},
   "outputs": [
    {
     "name": "stdout",
     "output_type": "stream",
     "text": [
      " 1/ 8/2019\n"
     ]
    }
   ],
   "source": [
    "data2 = '{:2d}/{:2d}/{:4d}'.format(dia, mes, ano)\n",
    "# A opção 'd' significa que o parâmetro é um número inteiro.\n",
    "print(data2)\n",
    "# Saída:  1/ 8/2019\n",
    "# Agora, dia e mês ocupam obrigatoriamente 2 espaços:  1/ 8/2019\n"
   ]
  },
  {
   "cell_type": "code",
   "execution_count": 27,
   "id": "f4b88a3b",
   "metadata": {},
   "outputs": [
    {
     "name": "stdout",
     "output_type": "stream",
     "text": [
      "01/08/2019\n"
     ]
    }
   ],
   "source": [
    "# Podemos forçar que os espaços em branco sejam preenchidos com o número 0:\n",
    "data3 = '{:02d}/{:02d}/{:04d}'.format(dia, mes, ano)\n",
    "print(data3)\n",
    "# Saída: 01/08/2019\n",
    "# Agora sim a data está no formato usual, dd/mm/aaaa: 01/08/2019\n"
   ]
  },
  {
   "cell_type": "code",
   "execution_count": 28,
   "id": "6d741c10",
   "metadata": {},
   "outputs": [
    {
     "name": "stdout",
     "output_type": "stream",
     "text": [
      "Pietro é professor da Let's Code.\n"
     ]
    }
   ],
   "source": [
    "# Um modo mais simples de utilizar o format\n",
    "nome = \"Pietro\"\n",
    "profissao = \"professor\"\n",
    "escola = \"Let's Code\"\n",
    "\n",
    "print(f\"{nome} é {profissao} da {escola}.\")\n",
    "# Saída: Pietro é professor da Let's Code."
   ]
  },
  {
   "cell_type": "markdown",
   "id": "2a666c1d",
   "metadata": {},
   "source": [
    "O .format() possui muitas opções interessantes. Há um site inteiro dedicado a explicar e exemplificar todas essas opções: https://pyformat.info/"
   ]
  },
  {
   "cell_type": "markdown",
   "id": "48e3c6bb",
   "metadata": {},
   "source": [
    "**Treino**"
   ]
  },
  {
   "cell_type": "code",
   "execution_count": 33,
   "id": "d612a1cc",
   "metadata": {},
   "outputs": [
    {
     "name": "stdout",
     "output_type": "stream",
     "text": [
      "Olá, Maoly\n"
     ]
    }
   ],
   "source": [
    "# Algum de os operadores aritmetricos\n",
    "\n",
    "cumprimento = 'Olá, '\n",
    "nome = 'Maoly'\n",
    "\n",
    "print(cumprimento +  nome) #soma\n"
   ]
  },
  {
   "cell_type": "code",
   "execution_count": 34,
   "id": "ead30a1e",
   "metadata": {},
   "outputs": [
    {
     "name": "stdout",
     "output_type": "stream",
     "text": [
      "MaolyMaolyMaolyMaolyMaoly\n"
     ]
    }
   ],
   "source": [
    "print (nome * 5) #multiplicação"
   ]
  },
  {
   "cell_type": "code",
   "execution_count": 35,
   "id": "f4f7cc0d",
   "metadata": {},
   "outputs": [
    {
     "name": "stdout",
     "output_type": "stream",
     "text": [
      "Maoly tem 38 anos e 2 filhos.\n"
     ]
    }
   ],
   "source": [
    "idade = 38\n",
    "n_filhos = 2\n",
    "\n",
    "print( nome + ' tem ' + str(idade) + ' anos e ' + str(n_filhos) +' filhos.')"
   ]
  },
  {
   "cell_type": "code",
   "execution_count": 37,
   "id": "7fe24ebc",
   "metadata": {},
   "outputs": [
    {
     "name": "stdout",
     "output_type": "stream",
     "text": [
      "Maoly tem 38 ano e 2 filhos.\n"
     ]
    }
   ],
   "source": [
    "#metodo format\n",
    "\n",
    "print('{} tem {} ano e {} filhos.'.format(nome, idade, n_filhos))"
   ]
  },
  {
   "cell_type": "code",
   "execution_count": 38,
   "id": "842f765b",
   "metadata": {},
   "outputs": [
    {
     "name": "stdout",
     "output_type": "stream",
     "text": [
      "O preço da gasolina hoje subiu e está em R$ 3.46\n"
     ]
    }
   ],
   "source": [
    "preco_gasolina= 3.4596\n",
    "print('O preço da gasolina hoje subiu e está em R$ {:.2f}'.format(preco_gasolina))"
   ]
  },
  {
   "cell_type": "code",
   "execution_count": 39,
   "id": "680a7e4a",
   "metadata": {},
   "outputs": [
    {
     "name": "stdout",
     "output_type": "stream",
     "text": [
      "Maoly tem 38 anos e 2 filhos.\n"
     ]
    }
   ],
   "source": [
    "print(f'{nome} tem {idade} anos e {n_filhos} filhos.' )"
   ]
  },
  {
   "cell_type": "markdown",
   "id": "4e8c52d5",
   "metadata": {},
   "source": [
    "**Dicionários**\n",
    "\n",
    "Dicionários\n",
    "Um dicionário é uma coleção, assim como as listas e as tuplas. Porém, enquanto as tuplas eram indexadas por um índice, os dicionários são indexados por chaves. Todo elemento em um dicionário possui uma chave e um valor. Chaves tipicamente são strings, valores podem ser qualquer tipo de dado."
   ]
  },
  {
   "cell_type": "code",
   "execution_count": 40,
   "id": "6df44296",
   "metadata": {},
   "outputs": [
    {
     "name": "stdout",
     "output_type": "stream",
     "text": [
      "{'cat': 'gato', 'dog': 'cachorro', 'mouse': 'rato'}\n",
      "<class 'dict'>\n",
      "{'cat': 'gato', 'dog': 'cão', 'mouse': 'rato'}\n",
      "{'Curso': 'Python Pro', 'Linguagem': 'Python', 'Módulo': 2}\n",
      "cat existe!\n",
      "dict_keys(['cat', 'dog', 'mouse'])\n",
      "dict_values(['gato', 'cão', 'rato'])\n",
      "dict_items([('cat', 'gato'), ('dog', 'cão'), ('mouse', 'rato')])\n"
     ]
    }
   ],
   "source": [
    "# O dicionário é definido pelos símbolos { e }\n",
    "\n",
    "dicionario = {}\n",
    "\n",
    "# O dicionário não possui um \"append\".\n",
    "# Adicionamos valores diretamente:\n",
    "\n",
    "dicionario['cat'] = 'gato'\n",
    "dicionario['dog'] = 'cachorro'\n",
    "dicionario['mouse'] = 'rato'\n",
    "\n",
    "print(dicionario)\n",
    "print(type(dicionario))\n",
    "\n",
    "'''\n",
    "Saída:\n",
    "{'cat': 'gato', 'dog': 'cachorro', 'mouse': 'rato'}\n",
    "<class 'dict'>\n",
    "'''\n",
    "\n",
    "# Dicionários, assim como as listas, são mutáveis:\n",
    "dicionario['dog'] = 'cão'\n",
    "print(dicionario)\n",
    "# Saída: {'cat': 'gato', 'dog': 'cão', 'mouse': 'rato'}\n",
    "\n",
    "# Podemos criar o dicionário diretamente também:\n",
    "dicionario2 = {'Curso': 'Python Pro', 'Linguagem':'Python', 'Módulo':2}\n",
    "print(dicionario2)\n",
    "# Saída: {'Curso': 'Python Pro', 'Linguagem': 'Python', 'Módulo': 2}\n",
    "\n",
    "# Podemos utilizar o operador \"in\" para verificar se uma chave existe:\n",
    "if 'cat' in dicionario:\n",
    "    print('cat existe!') # Sim\n",
    "if 'bird' in dicionario:\n",
    "    print('bird existe!') # Não\n",
    "if 'gato' in dicionario:\n",
    "    print('gato existe!') # Não\n",
    "\n",
    "'''\n",
    "Também podemos utilizar as funções .keys() e .values() para obter listas\n",
    "com apenas as chaves ou apenas os valores do dicionário.\n",
    "'''\n",
    "chaves = dicionario.keys()\n",
    "print(chaves)\n",
    "# Saída: dict_keys(['cat', 'dog', 'mouse'])\n",
    "\n",
    "valores = dicionario.values()\n",
    "print(valores)\n",
    "# Saída:dict_values(['gato', 'cão', 'rato'])\n",
    "\n",
    "# Já a função .items(), retorna uma lista de tuplas (chave, valor) de um dicionário\n",
    "\n",
    "itens = dicionario.items()\n",
    "print(itens)\n",
    "# Saída:dict_items([('cat', 'gato'), ('dog', 'cão'), ('mouse', 'rato')])"
   ]
  },
  {
   "cell_type": "markdown",
   "id": "19fe353e",
   "metadata": {},
   "source": [
    "**Treino**"
   ]
  },
  {
   "cell_type": "code",
   "execution_count": 4,
   "id": "7a9a8134",
   "metadata": {},
   "outputs": [
    {
     "name": "stdout",
     "output_type": "stream",
     "text": [
      "<class 'dict'>\n"
     ]
    }
   ],
   "source": [
    "dados_cidade = {\n",
    "    'nome':'São Paulo',\n",
    "    'Estado': 'São Paulo',\n",
    "    'area_km2': 1521,\n",
    "    'populacao_milhoes': 12.18\n",
    "}\n",
    "print(type(dados_cidade))"
   ]
  },
  {
   "cell_type": "code",
   "execution_count": 5,
   "id": "ad58ea0b",
   "metadata": {},
   "outputs": [
    {
     "name": "stdout",
     "output_type": "stream",
     "text": [
      "{'nome': 'São Paulo', 'Estado': 'São Paulo', 'area_km2': 1521, 'populacao_milhoes': 12.18}\n"
     ]
    }
   ],
   "source": [
    "print(dados_cidade)"
   ]
  },
  {
   "cell_type": "code",
   "execution_count": 6,
   "id": "5b11c7c2",
   "metadata": {},
   "outputs": [],
   "source": [
    "#accesar o atribuir valor\n",
    "\n",
    "dados_cidade['pais']='Brasil'"
   ]
  },
  {
   "cell_type": "code",
   "execution_count": 7,
   "id": "73d1a6f6",
   "metadata": {},
   "outputs": [
    {
     "name": "stdout",
     "output_type": "stream",
     "text": [
      "{'nome': 'São Paulo', 'Estado': 'São Paulo', 'area_km2': 1521, 'populacao_milhoes': 12.18, 'pais': 'Brasil'}\n"
     ]
    }
   ],
   "source": [
    "print(dados_cidade)"
   ]
  },
  {
   "cell_type": "code",
   "execution_count": 9,
   "id": "4cbc4d9c",
   "metadata": {},
   "outputs": [
    {
     "name": "stdout",
     "output_type": "stream",
     "text": [
      "São Paulo\n"
     ]
    }
   ],
   "source": [
    "#accesar\n",
    "\n",
    "print(dados_cidade['nome'])"
   ]
  },
  {
   "cell_type": "code",
   "execution_count": 10,
   "id": "df15cadc",
   "metadata": {},
   "outputs": [
    {
     "name": "stdout",
     "output_type": "stream",
     "text": [
      "{'nome': 'São Paulo', 'Estado': 'São Paulo', 'area_km2': 1500, 'populacao_milhoes': 12.18, 'pais': 'Brasil'}\n"
     ]
    }
   ],
   "source": [
    "#alterar\n",
    "\n",
    "dados_cidade['area_km2']= 1500\n",
    "print(dados_cidade)"
   ]
  },
  {
   "cell_type": "code",
   "execution_count": 11,
   "id": "bba64d3d",
   "metadata": {},
   "outputs": [],
   "source": [
    "#metodo copi\n",
    "\n",
    "dados_cidade_2 = dados_cidade"
   ]
  },
  {
   "cell_type": "code",
   "execution_count": 15,
   "id": "33c6d035",
   "metadata": {},
   "outputs": [],
   "source": [
    "dados_cidade_2 ['nome']= 'Santos'"
   ]
  },
  {
   "cell_type": "code",
   "execution_count": 16,
   "id": "7fe734c6",
   "metadata": {},
   "outputs": [
    {
     "name": "stdout",
     "output_type": "stream",
     "text": [
      "{'nome': 'Santos', 'Estado': 'São Paulo', 'area_km2': 1500, 'populacao_milhoes': 12.18, 'pais': 'Brasil'}\n"
     ]
    }
   ],
   "source": [
    "print(dados_cidade_2)"
   ]
  },
  {
   "cell_type": "code",
   "execution_count": 21,
   "id": "ca123e6c",
   "metadata": {},
   "outputs": [
    {
     "name": "stdout",
     "output_type": "stream",
     "text": [
      "{'nome': 'Santos', 'Estado': 'Río de Janeíro', 'area_km2': 1500, 'populacao_milhoes': 12.18, 'pais': 'Brasil'}\n"
     ]
    }
   ],
   "source": [
    "print(dados_cidade)"
   ]
  },
  {
   "cell_type": "code",
   "execution_count": 18,
   "id": "c550fe84",
   "metadata": {},
   "outputs": [],
   "source": [
    "#aplicando o metodo copy\n",
    "dados_cidade_3 = dados_cidade.copy()"
   ]
  },
  {
   "cell_type": "code",
   "execution_count": 20,
   "id": "4d926bea",
   "metadata": {},
   "outputs": [],
   "source": [
    "dados_cidade_3 ['Estado']= 'Amazonas'"
   ]
  },
  {
   "cell_type": "code",
   "execution_count": 22,
   "id": "7bb77e41",
   "metadata": {},
   "outputs": [
    {
     "name": "stdout",
     "output_type": "stream",
     "text": [
      "{'nome': 'Santos', 'Estado': 'Amazonas', 'area_km2': 1500, 'populacao_milhoes': 12.18, 'pais': 'Brasil'}\n"
     ]
    }
   ],
   "source": [
    "print(dados_cidade_3)"
   ]
  },
  {
   "cell_type": "code",
   "execution_count": 23,
   "id": "3cec5927",
   "metadata": {},
   "outputs": [
    {
     "name": "stdout",
     "output_type": "stream",
     "text": [
      "{'nome': 'Santos', 'Estado': 'Río de Janeíro', 'area_km2': 1500, 'populacao_milhoes': 12.18, 'pais': 'Brasil'}\n"
     ]
    }
   ],
   "source": [
    "print(dados_cidade_2)"
   ]
  },
  {
   "cell_type": "code",
   "execution_count": 24,
   "id": "68f0ba87",
   "metadata": {},
   "outputs": [
    {
     "name": "stdout",
     "output_type": "stream",
     "text": [
      "{'nome': 'Santos', 'Estado': 'Río de Janeíro', 'area_km2': 1500, 'populacao_milhoes': 12.18, 'pais': 'Brasil'}\n"
     ]
    }
   ],
   "source": [
    "print(dados_cidade)"
   ]
  },
  {
   "cell_type": "code",
   "execution_count": 25,
   "id": "6a8f2af3",
   "metadata": {},
   "outputs": [
    {
     "name": "stdout",
     "output_type": "stream",
     "text": [
      "{'nome': 'Santos', 'Estado': 'Río de Janeíro', 'area_km2': 1500, 'populacao_milhoes': 15, 'pais': 'Brasil', 'fundacao': '25/01/1554'}\n"
     ]
    }
   ],
   "source": [
    "#update\n",
    "\n",
    "novos_dados={\n",
    "    'populacao_milhoes': 15,\n",
    "    'fundacao': '25/01/1554'\n",
    "}\n",
    "\n",
    "dados_cidade.update(novos_dados)\n",
    "print(dados_cidade)"
   ]
  },
  {
   "cell_type": "code",
   "execution_count": 26,
   "id": "78d36dca",
   "metadata": {},
   "outputs": [
    {
     "name": "stdout",
     "output_type": "stream",
     "text": [
      "None\n"
     ]
    }
   ],
   "source": [
    "#Get\n",
    "\n",
    "print(dados_cidade.get('prefeito'))\n"
   ]
  },
  {
   "cell_type": "code",
   "execution_count": 27,
   "id": "c8a376dc",
   "metadata": {},
   "outputs": [
    {
     "name": "stdout",
     "output_type": "stream",
     "text": [
      "dict_keys(['nome', 'Estado', 'area_km2', 'populacao_milhoes', 'pais', 'fundacao'])\n",
      "--------------\n",
      "dict_values(['Santos', 'Río de Janeíro', 1500, 15, 'Brasil', '25/01/1554'])\n",
      "--------------\n",
      "dict_items([('nome', 'Santos'), ('Estado', 'Río de Janeíro'), ('area_km2', 1500), ('populacao_milhoes', 15), ('pais', 'Brasil'), ('fundacao', '25/01/1554')])\n"
     ]
    }
   ],
   "source": [
    "#Metodos que transforman dicionarios em lista\n",
    "\n",
    "#retorna uma lista de chaves de um dicionario\n",
    "print(dados_cidade.keys())\n",
    "print('--------------')\n",
    "#retorna uma lista de valores de um dicionario\n",
    "print(dados_cidade.values())\n",
    "print('--------------')\n",
    "#retorna uma lista de tuplas (chave, valor) de um dicionario\n",
    "print(dados_cidade.items())\n"
   ]
  },
  {
   "cell_type": "markdown",
   "id": "e0585ec5",
   "metadata": {},
   "source": [
    "**Estruturas de Repetição - For**\n"
   ]
  },
  {
   "cell_type": "markdown",
   "id": "7f969aa9",
   "metadata": {},
   "source": [
    "**Percorrendo coleções**\n",
    "\n",
    "O for é um tipo especial de loop feito para percorrer elementos de uma coleção. Acima vimos exemplos usando um while e um contador para percorrer uma lista. O for elimina a necessidade de inicializarmos um contador, incrementarmos e verificar a condição de parada. Sintaxe:"
   ]
  },
  {
   "cell_type": "markdown",
   "id": "2953ea1c",
   "metadata": {},
   "source": [
    "for (variável temporária) in (lista):\n",
    "\n",
    "    # instruções...\n",
    "    \n",
    "    # ..."
   ]
  },
  {
   "cell_type": "markdown",
   "id": "9e50a62f",
   "metadata": {},
   "source": [
    "O for se repete uma vez para cada elemento da lista. A cada repetição, a variável temporária assume o valor de um elemento da lista, na ordem da lista."
   ]
  },
  {
   "cell_type": "code",
   "execution_count": 29,
   "id": "c7f63bcc",
   "metadata": {},
   "outputs": [
    {
     "name": "stdout",
     "output_type": "stream",
     "text": [
      "1\n",
      "1\n",
      "2\n",
      "3\n",
      "5\n",
      "8\n",
      "13\n"
     ]
    }
   ],
   "source": [
    "fib = [1, 1, 2, 3, 5, 8, 13]\n",
    "for elemento in fib:\n",
    "    print(elemento)"
   ]
  },
  {
   "cell_type": "markdown",
   "id": "923983aa",
   "metadata": {},
   "source": [
    "**Percorrendo sequências numéricas**\n",
    "\n",
    "O for pode ser usado, junto com a função range(), para gerar sequências numéricas e contagens. Existem 3 meios de usar o range(): especificando 1, 2 ou 3 parâmetros."
   ]
  },
  {
   "cell_type": "code",
   "execution_count": 30,
   "id": "a6c54efa",
   "metadata": {},
   "outputs": [
    {
     "name": "stdout",
     "output_type": "stream",
     "text": [
      "0\n",
      "1\n",
      "2\n",
      "3\n",
      "4\n",
      "5\n",
      "6\n",
      "7\n",
      "8\n",
      "9\n",
      "1\n",
      "2\n",
      "3\n",
      "4\n",
      "5\n",
      "6\n",
      "7\n",
      "8\n",
      "9\n",
      "10\n",
      "1\n",
      "3\n",
      "5\n",
      "7\n",
      "9\n",
      "11\n",
      "13\n",
      "15\n",
      "17\n",
      "19\n",
      "10\n",
      "9\n",
      "8\n",
      "7\n",
      "6\n",
      "5\n",
      "4\n",
      "3\n",
      "2\n",
      "1\n"
     ]
    }
   ],
   "source": [
    "# Com 1 parâmetro, ele será interpretado como valor final (exclusivo).\n",
    "# O valor inicial será 0 e o incremento será 1.\n",
    "\n",
    "for numero in range(10):\n",
    "    print(numero)\n",
    "    # este exemplo imprime os números de 0 a 9, de um em um\n",
    "\n",
    "# Com 2 parâmetros, o primeiro será o valor inicial (inclusivo) e o\n",
    "# segundo será o final (exclusivo).\n",
    "# O incremento continuará sendo 1.\n",
    "\n",
    "for numero in range(1,11):\n",
    "    print(numero)\n",
    "    # este exemplo imprime os números de 1 a 10, de um em um\n",
    "\n",
    "# Com 3 parâmetros, o terceiro será interpretado como incremento.\n",
    "for numero in range(1,20,2):\n",
    "    print(numero)\n",
    "    # este exemplo imprime os ímpares positivos menores do que 20\n",
    "    # ele começa valendo 1 e salta de 2 em 2 até atingir ou passar 20\n",
    "\n",
    "# O incremento pode ser também um decremento (incremento negativo).\n",
    "for numero in range (10,0,-1):\n",
    "    print(numero)\n",
    "    #Imprimindo os números de 1 a 10 em ordem decrescente"
   ]
  },
  {
   "cell_type": "markdown",
   "id": "3da5199c",
   "metadata": {},
   "source": [
    "**Treino**"
   ]
  },
  {
   "cell_type": "code",
   "execution_count": 32,
   "id": "75ebe7a0",
   "metadata": {},
   "outputs": [
    {
     "name": "stdout",
     "output_type": "stream",
     "text": [
      "São Paulo\n",
      "Londres\n",
      "Tóquio\n",
      "París\n"
     ]
    }
   ],
   "source": [
    "#For Loop, estrutura de repeticion especializado em iterar sobre objetos \"Navegar\" sobre un objete pasible de navegação\n",
    "#Puede ser usados para un numero de tarefas predefinidos,precisar navera por cada uno de los elementos\n",
    "\n",
    "nomes_cidades = [ 'São Paulo', 'Londres', 'Tóquio', 'París']\n",
    "\n",
    "for nome in nomes_cidades:\n",
    "    print(nome)"
   ]
  },
  {
   "cell_type": "code",
   "execution_count": 36,
   "id": "6b3ca5f8",
   "metadata": {},
   "outputs": [
    {
     "name": "stdout",
     "output_type": "stream",
     "text": [
      "São Paulo\n",
      "Londres\n",
      "Tóquio\n",
      "París\n",
      "Roma\n"
     ]
    }
   ],
   "source": [
    "#comparação com while\n",
    "contador = 0\n",
    "\n",
    "nomes_cidades = [ 'São Paulo', 'Londres', 'Tóquio', 'París', 'Roma']\n",
    "while contador < len(nomes_cidades):\n",
    "    print(nomes_cidades [contador])\n",
    "    contador = contador + 1\n",
    "    "
   ]
  },
  {
   "cell_type": "code",
   "execution_count": 37,
   "id": "0534491a",
   "metadata": {},
   "outputs": [
    {
     "name": "stdout",
     "output_type": "stream",
     "text": [
      "São Paulo\n",
      "Londres\n",
      "Tóquio\n",
      "París\n"
     ]
    }
   ],
   "source": [
    "nomes_cidades =  'São Paulo', 'Londres', 'Tóquio', 'París'\n",
    "\n",
    "for nome in nomes_cidades:\n",
    "    print(nome)"
   ]
  },
  {
   "cell_type": "code",
   "execution_count": 38,
   "id": "a42f233c",
   "metadata": {},
   "outputs": [
    {
     "name": "stdout",
     "output_type": "stream",
     "text": [
      "nome:São Paulo\n",
      "estado:São Paulo\n",
      "populacao_milhoes:12.2\n"
     ]
    }
   ],
   "source": [
    "cidade = {\n",
    "    'nome': 'São Paulo',\n",
    "    'estado': 'São Paulo',\n",
    "    'populacao_milhoes':  12.2\n",
    "}\n",
    "\n",
    "for chave in cidade:\n",
    "    print(f'{chave}:{cidade[chave]}')"
   ]
  },
  {
   "cell_type": "code",
   "execution_count": 55,
   "id": "50d6f64a",
   "metadata": {},
   "outputs": [
    {
     "name": "stdout",
     "output_type": "stream",
     "text": [
      "('São Paulo', 'Londres', 'Tóquio', 'París')\n",
      "('São Paulo', 'Londres', 'Tóquio', 'París')\n",
      "('São Paulo', 'Londres', 'Tóquio', 'París')\n",
      "('São Paulo', 'Londres', 'Tóquio', 'París')\n"
     ]
    }
   ],
   "source": [
    "nomes_cidades =  'São Paulo', 'Londres', 'Tóquio', 'París'\n",
    "\n",
    "for nome in nomes_cidades:\n",
    "    nome = 'Río Janeiro'\n",
    "    print(nomes_cidades)"
   ]
  },
  {
   "cell_type": "code",
   "execution_count": 60,
   "id": "7499a5c1",
   "metadata": {},
   "outputs": [
    {
     "name": "stdout",
     "output_type": "stream",
     "text": [
      "['São Paulo', 'Londres', 'Tóquio', 'París']\n",
      "['São Paulo', 'Londres', 'Tóquio', 'París']\n",
      "['São Paulo', 'Londres', 'Tóquio', 'París']\n",
      "['São Paulo', 'Londres', 'Tóquio', 'París']\n",
      "['Bahia', 'Bahia', 'Bahia', 'Bahia']\n"
     ]
    }
   ],
   "source": [
    "#alterar elementos em a lista range\n",
    "\n",
    "nomes_cidades =  ['São Paulo', 'Londres', 'Tóquio', 'París']\n",
    "\n",
    "for nome in nomes_cidades:\n",
    "    nome = 'Río Janeiro'\n",
    "    print(nomes_cidades)\n",
    "    \n",
    "for posicao in range(len(nomes_cidades)):\n",
    "    nomes_cidades[posicao] = 'Bahia'\n",
    "print(nomes_cidades)\n"
   ]
  },
  {
   "cell_type": "code",
   "execution_count": 61,
   "id": "d137bed8",
   "metadata": {},
   "outputs": [
    {
     "name": "stdout",
     "output_type": "stream",
     "text": [
      "[0, 1, 2, 3, 4, 5, 6, 7, 8, 9]\n",
      "[2, 3, 4, 5, 6, 7, 8, 9]\n",
      "[2, 4, 6, 8]\n"
     ]
    }
   ],
   "source": [
    "print(list(range(10)))\n",
    "print(list(range(2, 10)))\n",
    "print(list(range(2, 10, 2)))"
   ]
  },
  {
   "cell_type": "markdown",
   "id": "9a982bd1",
   "metadata": {},
   "source": [
    "**Funções I**"
   ]
  },
  {
   "cell_type": "markdown",
   "id": "1d375d59",
   "metadata": {},
   "source": [
    "**Funções**\n",
    "\n",
    "Funções são uma espécie de \"subprograma\". Elas são como pequenos pedacinhos de programa que podem ser chamadas pelo nome. Para criar uma função usamos o comando \"def\" e o nome da função. Elas são um bloco de comando assim como if/elif/else, while e for."
   ]
  },
  {
   "cell_type": "code",
   "execution_count": 63,
   "id": "94b380db",
   "metadata": {},
   "outputs": [],
   "source": [
    "def hello():\n",
    "    print(\"Olá, mundo!\")\n"
   ]
  },
  {
   "cell_type": "markdown",
   "id": "0b458f9a",
   "metadata": {},
   "source": [
    "Quando uma função é chamada pelo nome, o fluxo do programa é interrompido. Em seguida, a função inteira é executada, e ao final dela, o programa volta a ser executado do mesmo ponto que parou."
   ]
  },
  {
   "cell_type": "code",
   "execution_count": 64,
   "id": "263b5079",
   "metadata": {},
   "outputs": [
    {
     "name": "stdout",
     "output_type": "stream",
     "text": [
      "Olá, mundo!\n"
     ]
    }
   ],
   "source": [
    "hello()\n",
    "\n",
    "# Saída: Olá, mundo!"
   ]
  },
  {
   "cell_type": "markdown",
   "id": "ba87fe4d",
   "metadata": {},
   "source": [
    "É possível passarmos informações para uma função. Chamamos essas informações de \"parâmetros\" ou \"argumentos. Na definição da função, daremos nome a esses parâmetros. Dentro da função, eles serão tratados como se fossem variáveis."
   ]
  },
  {
   "cell_type": "code",
   "execution_count": 65,
   "id": "77d6f26b",
   "metadata": {},
   "outputs": [],
   "source": [
    "def ola(nome):\n",
    "    print(\"Olá\", nome)"
   ]
  },
  {
   "cell_type": "markdown",
   "id": "e508a3b1",
   "metadata": {},
   "source": [
    "Ao chamarmos a nossa funcao, passamos os parâmetros entre parênteses. O nome ou valor passado não precisam ser iguais aos declarados na função! O nome do parâmetro interno da função é um \"apelido\" que a função dará para o valor ou variável que passamos"
   ]
  },
  {
   "cell_type": "code",
   "execution_count": 66,
   "id": "464c297d",
   "metadata": {},
   "outputs": [
    {
     "name": "stdout",
     "output_type": "stream",
     "text": [
      "Olá Maria\n",
      "Olá João\n"
     ]
    }
   ],
   "source": [
    "ola(\"Maria\")\n",
    "# Saída: Olá, Maria\n",
    "\n",
    "aluno = \"João\"\n",
    "ola(aluno)\n",
    "# Saída: Olá, João"
   ]
  },
  {
   "cell_type": "markdown",
   "id": "7934b504",
   "metadata": {},
   "source": [
    "A função pode receber vários parâmetros separados por vírgula."
   ]
  },
  {
   "cell_type": "code",
   "execution_count": 67,
   "id": "210cbaf9",
   "metadata": {},
   "outputs": [
    {
     "name": "stdout",
     "output_type": "stream",
     "text": [
      "Seu nome é José, você tem 30 anos e mora em Maceió.\n"
     ]
    }
   ],
   "source": [
    "def dadosPessoais(nome, idade, cidade):\n",
    "    print(\"Seu nome é {}, você tem {} anos e mora em {}.\".format(nome, idade, cidade))\n",
    "\n",
    "dadosPessoais(\"José\", 30, \"Maceió\")\n",
    "# Saída: Seu nome é José, você tem 30 anos e mora em Maceió."
   ]
  },
  {
   "cell_type": "markdown",
   "id": "0109cec7",
   "metadata": {},
   "source": [
    "Os parâmetros podem ser passados fora de ordem. Porém, para isso precisamos explicitar qual parâmetro estamos passando, para evitar ambiguidade ou erros de interpretação do Python."
   ]
  },
  {
   "cell_type": "code",
   "execution_count": 68,
   "id": "88ca546b",
   "metadata": {},
   "outputs": [
    {
     "name": "stdout",
     "output_type": "stream",
     "text": [
      "Seu nome é Ana, você tem 56 anos e mora em Florianópolis.\n"
     ]
    }
   ],
   "source": [
    "dadosPessoais(idade=56, cidade=\"Florianópolis\", nome=\"Ana\")\n",
    "# Saída: Seu nome é Ana, você tem 56 anos e mora em Florianópolis."
   ]
  },
  {
   "cell_type": "markdown",
   "id": "fe32fda5",
   "metadata": {},
   "source": [
    "**Funções com resposta**\n",
    "\n",
    "Uma função pode ter uma \"resposta\". Por exemplo, nossa função pode ser uma conta, e o resultado da conta pode ser útil em nosso programa. Dizemos que essas funções \"retornam\" um valor. Utilizamos a palavra \"return\" para fazer uma função retornar sua resposta. Quando uma função retorna um valor, ela pode ser usada em expressões matemáticas ou lógicas, ter seu valor atribuído a uma variável, etc."
   ]
  },
  {
   "cell_type": "code",
   "execution_count": 69,
   "id": "b60850b6",
   "metadata": {},
   "outputs": [
    {
     "name": "stdout",
     "output_type": "stream",
     "text": [
      "A soma dos elementos da lista vale:  15\n",
      "Que soma pequena!\n"
     ]
    },
    {
     "data": {
      "text/plain": [
       "'\\nSaída:\\nA soma dos elementos da lista vale:  15\\nQue soma pequena!\\n'"
      ]
     },
     "execution_count": 69,
     "metadata": {},
     "output_type": "execute_result"
    }
   ],
   "source": [
    "def somatorio(lista):\n",
    "    soma = 0\n",
    "    for item in lista:\n",
    "        soma = soma + item\n",
    "    return soma\n",
    "\n",
    "numeros = [1, 2, 3, 4, 5]\n",
    "soma_dos_numeros = somatorio(numeros)\n",
    "print(\"A soma dos elementos da lista vale: \", soma_dos_numeros)\n",
    "\n",
    "if somatorio(numeros) > 50:\n",
    "    print(\"Que soma grande!\")\n",
    "else:\n",
    "    print(\"Que soma pequena!\")\n",
    "    \n",
    "'''\n",
    "Saída:\n",
    "A soma dos elementos da lista vale:  15\n",
    "Que soma pequena!\n",
    "'''"
   ]
  },
  {
   "cell_type": "markdown",
   "id": "c70bacb0",
   "metadata": {},
   "source": [
    "**Funções recursivas**\n",
    "\n",
    "Algumas funções são chamadas funções recursivas. A recursividade (ou recursão) é uma propriedade na qual uma função faz referência a si mesma. Quando a função encontra uma nova referência, ela irá pausar sua execução atual e iniciar a execução da nova instância, para só então retomar sua execução.\n",
    "\n",
    "Assim como nos loops, é necessário ter alguma condição para que as chamadas recursivas sejam interrompidas, evitando que executem para sempre."
   ]
  },
  {
   "cell_type": "code",
   "execution_count": 70,
   "id": "572bff58",
   "metadata": {},
   "outputs": [
    {
     "name": "stdout",
     "output_type": "stream",
     "text": [
      "Testando a função recursiva:\n",
      "1\n",
      "2\n",
      "3\n",
      "4\n",
      "5\n",
      "6\n",
      "7\n",
      "8\n",
      "9\n",
      "10\n"
     ]
    }
   ],
   "source": [
    "def funcaoRecursiva(numero):\n",
    "    if (numero != 1):\n",
    "        funcaoRecursiva(numero - 1)\n",
    "    print(numero)\n",
    "\n",
    "print(\"Testando a função recursiva:\")\n",
    "funcaoRecursiva(10)"
   ]
  },
  {
   "cell_type": "markdown",
   "id": "f0cddf9c",
   "metadata": {},
   "source": [
    "Note que no exemplo acima passamos 10 para a função. Sua execução foi interrompida por uma nova chamada passando 9, depois 8, depois 7... Ao chegar em 1, ele foge da condicional e imprime 1, encerrando a execução. Então a instância que recebeu 2 tambem conclui sua execução, depois a chamada 3, a 4... A 10, que foi a 1a chamada, encerra por último.\n",
    "\n",
    "Dizemos que é um comportamento de pilha - exatamente como uma pilha de pratos sobre a mesa: O primeiro prato que foi colocado sobre a mesa será o último a sair, pois todos os pratos colocados sobre ele precisam ser retirados antes de você poder retirar o último.\n",
    "\n",
    "Problemas recursivos normalmente são problemas do tipo \"dividir para conquistar\": Temos um \"caso base\", ou seja, um ou mais casos onde há uma resposta direta; E temos um \"caso geral\", que é uma versão reduzida do problema original."
   ]
  },
  {
   "cell_type": "markdown",
   "id": "5bb37f6e",
   "metadata": {},
   "source": [
    "**Treino**"
   ]
  },
  {
   "cell_type": "code",
   "execution_count": 71,
   "id": "568e1dd7",
   "metadata": {},
   "outputs": [],
   "source": [
    "def hello():\n",
    "    print('Olá, mundo!!!')"
   ]
  },
  {
   "cell_type": "code",
   "execution_count": 72,
   "id": "b61f80fd",
   "metadata": {},
   "outputs": [
    {
     "name": "stdout",
     "output_type": "stream",
     "text": [
      "Olá, mundo!!!\n"
     ]
    }
   ],
   "source": [
    "hello()"
   ]
  },
  {
   "cell_type": "code",
   "execution_count": 74,
   "id": "192a52ca",
   "metadata": {},
   "outputs": [],
   "source": [
    "def calcula_media(valor1, valor2, valor3):\n",
    "    soma = valor1 + valor2 + valor3\n",
    "    media= soma / 3\n",
    "    return media"
   ]
  },
  {
   "cell_type": "code",
   "execution_count": 75,
   "id": "167345df",
   "metadata": {},
   "outputs": [
    {
     "name": "stdout",
     "output_type": "stream",
     "text": [
      "33.333333333333336\n"
     ]
    }
   ],
   "source": [
    "resultado = calcula_media(50, 10, 40)\n",
    "print(resultado)"
   ]
  },
  {
   "cell_type": "code",
   "execution_count": 76,
   "id": "978f16d3",
   "metadata": {},
   "outputs": [
    {
     "name": "stdout",
     "output_type": "stream",
     "text": [
      "33.333333333333336\n"
     ]
    }
   ],
   "source": [
    "resultado1 = calcula_media(valor1=50, valor2=10, valor3=40)\n",
    "print(resultado1)"
   ]
  },
  {
   "cell_type": "code",
   "execution_count": 79,
   "id": "34825ca0",
   "metadata": {},
   "outputs": [
    {
     "name": "stdout",
     "output_type": "stream",
     "text": [
      "Olá, Pietro\n"
     ]
    }
   ],
   "source": [
    "# parametro end\n",
    "\n",
    "print('Olá', end ='')\n",
    "print(', Pietro')"
   ]
  },
  {
   "cell_type": "code",
   "execution_count": 80,
   "id": "901677ba",
   "metadata": {},
   "outputs": [],
   "source": [
    "def calcula_media(valor1 = 0 , valor2 = 0, valor3 = 0):\n",
    "    soma = valor1 + valor2 + valor3\n",
    "    media= soma / 3\n",
    "    return media\n"
   ]
  },
  {
   "cell_type": "code",
   "execution_count": 81,
   "id": "4a5f4bf5",
   "metadata": {},
   "outputs": [
    {
     "name": "stdout",
     "output_type": "stream",
     "text": [
      "<function calcula_media at 0x0000021AD9AB0940>\n"
     ]
    }
   ],
   "source": [
    "resultado = calcula_media\n",
    "print(resultado)"
   ]
  },
  {
   "cell_type": "markdown",
   "id": "4f36b95b",
   "metadata": {},
   "source": [
    "**Funções II**"
   ]
  },
  {
   "cell_type": "markdown",
   "id": "9340cf0e",
   "metadata": {},
   "source": [
    "**Agrupando parâmetros**\n",
    "\n",
    "Podemos utilizar o operador * - que, neste caso, não será uma multiplicação. Ao colocarmos o * ao lado do nome de um parâmetro na definição da função, estamos dizendo que aquele argumento será uma coleção. Mais especificamente, uma tupla. Porém, o usuário não irá passar uma tupla. Ele irá passar quantos argumentos ele quiser, e o Python automaticamente criará uma tupla com eles:"
   ]
  },
  {
   "cell_type": "code",
   "execution_count": 83,
   "id": "81fa080d",
   "metadata": {},
   "outputs": [
    {
     "name": "stdout",
     "output_type": "stream",
     "text": [
      "O volume é:  100\n"
     ]
    }
   ],
   "source": [
    "def piscina(*infos):\n",
    "    vol = infos[0]*infos[1]*infos[2]\n",
    "    return vol\n",
    "\n",
    "volume = piscina(5, 4, 5)\n",
    "\n",
    "print('O volume é: ', volume)"
   ]
  },
  {
   "cell_type": "markdown",
   "id": "c1084da3",
   "metadata": {},
   "source": [
    "Podemos utilizar o operador * na chamada da função também. Na definição, o operador * indica que devemos agrupar itens avulsos em uma coleção. Na chamada, ele indica que uma coleção deve ser expandida em itens avulsos:"
   ]
  },
  {
   "cell_type": "code",
   "execution_count": 84,
   "id": "da44249b",
   "metadata": {},
   "outputs": [
    {
     "name": "stdout",
     "output_type": "stream",
     "text": [
      "O volume é:  100\n"
     ]
    }
   ],
   "source": [
    "def piscina(prof, largura, comprimento):\n",
    "    vol = prof*largura*comprimento\n",
    "    return vol\n",
    "\n",
    "lista = [5, 4, 5]\n",
    "\n",
    "volume = piscina(*lista)\n",
    "\n",
    "print('O volume é: ', volume)"
   ]
  },
  {
   "cell_type": "markdown",
   "id": "e0f5ef9e",
   "metadata": {},
   "source": [
    "**Parâmetros opcionais**\n",
    "\n",
    "Outra possibilidade são funções com parâmetros opcionais. Note que isso é diferente de termos quantidade variável de parâmetros. No caso da quantidade variável, normalmente são diversos parâmetros com a mesma utilidade (números a serem somados, valores a serem exibidos etc), enquanto os parâmetros opcionais são informações distintas que podem ou não ser passadas para a função.\n",
    "\n",
    "Para criar parâmetros opcionais, usaremos **, e os parâmetros passados serão agrupados em um dicionário: o nome do parâmetro será uma chave, e o valor será... O valor."
   ]
  },
  {
   "cell_type": "code",
   "execution_count": 86,
   "id": "3eb955fb",
   "metadata": {},
   "outputs": [
    {
     "name": "stdout",
     "output_type": "stream",
     "text": [
      "O volume é:  100\n"
     ]
    }
   ],
   "source": [
    "def piscina(prof, **infos):\n",
    "    vol = prof*infos['largura']*infos['comprimento']\n",
    "    return vol\n",
    "\n",
    "volume = piscina(5, largura=4, comprimento=5)\n",
    "\n",
    "print('O volume é: ', volume)"
   ]
  },
  {
   "cell_type": "markdown",
   "id": "03d14d62",
   "metadata": {},
   "source": [
    "Analogamente ao caso dos parâmetros múltiplos, é possível que o usuário da função já tenha os dados organizados em um dicionário. Neste caso, basta usar ** na chamada da função para expandir o dicionário em vários parâmetros opcionais:"
   ]
  },
  {
   "cell_type": "code",
   "execution_count": 89,
   "id": "379ff6a1",
   "metadata": {},
   "outputs": [
    {
     "name": "stdout",
     "output_type": "stream",
     "text": [
      "O volume é:  1000\n"
     ]
    }
   ],
   "source": [
    "def piscina(prof, largura=4, comprimento=5):\n",
    "    vol = prof*largura*comprimento\n",
    "    return vol\n",
    "\n",
    "infos = {'largura': 10, 'comprimento': 20}\n",
    "\n",
    "volume = piscina(5, **infos)\n",
    "\n",
    "print('O volume é: ', volume)"
   ]
  },
  {
   "cell_type": "markdown",
   "id": "c7d2d463",
   "metadata": {},
   "source": [
    "***Treino***"
   ]
  },
  {
   "cell_type": "code",
   "execution_count": 90,
   "id": "cd6a7037",
   "metadata": {},
   "outputs": [],
   "source": [
    "def calcula_media(*args):\n",
    "    print(args, type(args))"
   ]
  },
  {
   "cell_type": "code",
   "execution_count": 91,
   "id": "4c259214",
   "metadata": {},
   "outputs": [
    {
     "name": "stdout",
     "output_type": "stream",
     "text": [
      "(10, 8, 9) <class 'tuple'>\n"
     ]
    }
   ],
   "source": [
    "calcula_media(10, 8, 9)"
   ]
  },
  {
   "cell_type": "code",
   "execution_count": 93,
   "id": "1e3261a2",
   "metadata": {},
   "outputs": [],
   "source": [
    "def calcula_media(*args):\n",
    "    soma= sum(args)\n",
    "    media = soma / len(args)\n",
    "    return media\n",
    "    print(args, type(args))"
   ]
  },
  {
   "cell_type": "code",
   "execution_count": 94,
   "id": "24c3a5a2",
   "metadata": {},
   "outputs": [
    {
     "data": {
      "text/plain": [
       "9.0"
      ]
     },
     "execution_count": 94,
     "metadata": {},
     "output_type": "execute_result"
    }
   ],
   "source": [
    "calcula_media(10, 8, 9)"
   ]
  },
  {
   "cell_type": "code",
   "execution_count": 95,
   "id": "1c16248d",
   "metadata": {},
   "outputs": [
    {
     "data": {
      "text/plain": [
       "9.9"
      ]
     },
     "execution_count": 95,
     "metadata": {},
     "output_type": "execute_result"
    }
   ],
   "source": [
    "def calcula_media(*args, margem):\n",
    "    soma= sum(args)\n",
    "    media = soma / len(args)\n",
    "    return media + margem\n",
    "    print(args, type(args))\n",
    "    \n",
    "    \n",
    "calcula_media(10, 8, 9, margem= 0.9)"
   ]
  },
  {
   "cell_type": "code",
   "execution_count": 96,
   "id": "f6f85be2",
   "metadata": {},
   "outputs": [],
   "source": [
    "def print_info(**kwargs):\n",
    "    print(kwargs, type(kwargs))"
   ]
  },
  {
   "cell_type": "code",
   "execution_count": 98,
   "id": "e4eb34cc",
   "metadata": {},
   "outputs": [
    {
     "name": "stdout",
     "output_type": "stream",
     "text": [
      "{'nome': ' Maoly', 'sobrenome': 'Lara Serrano'} <class 'dict'>\n"
     ]
    }
   ],
   "source": [
    "print_info(nome= ' Maoly', sobrenome= 'Lara Serrano')"
   ]
  },
  {
   "cell_type": "code",
   "execution_count": null,
   "id": "40998578",
   "metadata": {},
   "outputs": [],
   "source": []
  },
  {
   "cell_type": "code",
   "execution_count": null,
   "id": "5e95a7f1",
   "metadata": {},
   "outputs": [],
   "source": []
  },
  {
   "cell_type": "code",
   "execution_count": null,
   "id": "7a755edb",
   "metadata": {},
   "outputs": [],
   "source": []
  },
  {
   "cell_type": "code",
   "execution_count": null,
   "id": "2cfcc42e",
   "metadata": {},
   "outputs": [],
   "source": []
  },
  {
   "cell_type": "code",
   "execution_count": null,
   "id": "7cb12a2f",
   "metadata": {},
   "outputs": [],
   "source": []
  },
  {
   "cell_type": "code",
   "execution_count": null,
   "id": "ae847243",
   "metadata": {},
   "outputs": [],
   "source": []
  }
 ],
 "metadata": {
  "kernelspec": {
   "display_name": "Python 3 (ipykernel)",
   "language": "python",
   "name": "python3"
  },
  "language_info": {
   "codemirror_mode": {
    "name": "ipython",
    "version": 3
   },
   "file_extension": ".py",
   "mimetype": "text/x-python",
   "name": "python",
   "nbconvert_exporter": "python",
   "pygments_lexer": "ipython3",
   "version": "3.10.5"
  }
 },
 "nbformat": 4,
 "nbformat_minor": 5
}
