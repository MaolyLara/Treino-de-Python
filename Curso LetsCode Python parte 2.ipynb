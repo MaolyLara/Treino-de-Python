{
 "cells": [
  {
   "cell_type": "markdown",
   "id": "76f5a2c9",
   "metadata": {},
   "source": [
    "**Manipulação de Arquivos**"
   ]
  },
  {
   "cell_type": "markdown",
   "id": "da568750",
   "metadata": {},
   "source": [
    "Clique aqui para acessar o arquivo dom_casmurro_cap_1.txt (clique com o botão direito do mouse e depois em \"Salvar link como\").\n",
    "\n",
    "**Arquivos em Python**\n",
    "\n",
    "O Python possui algumas funções prontas para manipular arquivos binários puros (onde, conhecendo a estrutura interna de qualquer formato, podemos salvar qualquer tipo de arquivo) e para manipular arquivos de texto (onde os binários são decodificados como strings).\n",
    "\n",
    "Focaremos no básico de manipulação de arquivo de texto, pois, na prática, quando formos trabalhar com arquivos mais complexos, é provável que usaremos bibliotecas específicas para lidar com eles, e elas já terão funções próprias para ler e salvar esses arquivos da maneira correta.\n",
    "\n",
    "**Abrindo e fechando arquivos**\n",
    "\n",
    "Podemos criar arquivos novos ou abrir arquivos já existentes utilizando a função open. Ela possui 2 argumentos: o caminho do arquivo e o modo de operação.\n",
    "\n",
    "Modo\tSímbolo\tDescrição\n",
    "read\tr\tlê um arquivo existente\n",
    "write\tw\tcria um novo arquivo\n",
    "append\ta\tabre um arquivo existente para adicionar informações ao seu final\n",
    "update\t+\tao ser combinado com outros modos, permite alteração de arquivo já existente (ex: r+ abre um arquivo existente e permite modificá-lo)\n",
    "\n",
    "Após abrirmos (ou criarmos) um arquivo, podemos realizar diversas operações. Ao final de todas elas, devemos fechar o nosso arquivo usando a função close. Essa etapa é importante por 2 motivos:\n",
    "\n",
    "Se alteramos o arquivo mas não o fechamos, as alterações não serão salvas;\n",
    "Se esquecemos de fechar um arquivo, outros programas podem ter problemas ao acessá-lo.\n",
    "\n",
    "**Roteiro básico**\n",
    "\n",
    "Vamos seguir os seguintes passos para manipular nossos arquivos:\n",
    "\n"
   ]
  },
  {
   "cell_type": "markdown",
   "id": "8986123f",
   "metadata": {},
   "source": [
    "1. Abrir ou criar um arquivo:\n",
    "\n",
    "arquivocriado = open(\"criado.txt\", \"w\")\n",
    "\n",
    "A linha de comando acima abre (ou cria se não existe) um arquivo chamado \"criado.txt\" para escrita (\"w\", de write) e guarda na variável \"arquivocriado\" as informações para manipulá-lo.\n",
    "\n",
    "arquivolido = open(\"teste.txt\", \"r\")\n",
    "\n",
    "A linha acima lê (\"r\", de read) um arquivo já existente chamado \"teste.txt\" e guarda na variável \"arquivolido\" as informações para manipulá-lo.\n",
    "\n",
    "2. Carregar os dados do arquivo (leitura)\n",
    "\n",
    "dados = arquivolido.read()\n",
    "print(dados)\n",
    "\n",
    "A função read() retorna todo o conteúdo do arquivo como uma string.\n",
    "\n",
    "Precisamos carregar o conteúdo do arquivo em algum formato que sabemos trabalhar. A read() carrega o conteúdo de um arquivo de texto em uma string.\n",
    "\n",
    "3. Manipular os dados do arquivo (escrita)\n",
    "\n",
    "arquivocriado.write(\"linha 1\")\n",
    "arquivocriado.write(\"linha 2\")\n",
    "arquivocriado.write(\"linha 3\")\n",
    "\n",
    "Em casos mais complexos, iremos manipular o conteudo LIDO no passo anterior para posteriormente reescrevê-lo. Em outros mais simples, podemos escrever diretamente no arquivo.\n",
    "\n",
    "4. Fechar o arquivo\n",
    "\n",
    "arquivocriado.close()\n",
    "arquivolido.close()\n",
    "\n",
    "Essa etapa é muito importante para garantir a integridade dos novos dados no arquivo. As modificações são salvas somente ao fechar o arquivo.\n",
    "\n",
    "**Comando with**\n",
    "\n",
    "Um jeito mais inteligente de se trabalhar com arquivos é utilizar a sintaxe do \"with\". Ele garante que após a finalização do bloco, o arquivo será fechado.\n",
    "\n",
    "with open('teste.txt', 'r') as arquivolido:\n",
    "   dados = arquivolido.read()\n",
    "   print(dados)\n",
    "   \n",
    "É possível ler o arquivo linha a linha, como no exemplo:\n",
    "\n",
    "with open('teste.txt', 'r') as arquivolido:\n",
    "   linha = arquivolido.readline()\n",
    "   while linha != '':\n",
    "       print(linha, end='')\n",
    "       linha = arquivolido.readline()\n",
    "\n",
    "\n",
    "OU\n",
    "\n",
    "with open('teste.txt', 'r') as arquivolido:\n",
    "    for linha in arquivolido:\n",
    "        print(linha, end='')\n",
    "        \n",
    "O mesmo pode ser feito para escrever no arquivo:\n",
    "\n",
    "with open('teste.txt', 'r') as arquivolido:\n",
    "    with open('copiateste.txt', 'w') as arquivocriado:\n",
    "        for linha in arquivolido:\n",
    "            arquivocriado.write(linha)\n",
    "            \n",
    "No comando acima, as linhas do arquivo \"teste.txt\" são copiadas e salvas no arquivo \"copiateste.txt\"."
   ]
  },
  {
   "cell_type": "markdown",
   "id": "48592175",
   "metadata": {},
   "source": [
    "**Treino**"
   ]
  },
  {
   "cell_type": "markdown",
   "id": "85f705eb",
   "metadata": {},
   "source": [
    "# **Manipulação de Arquivos**"
   ]
  },
  {
   "cell_type": "code",
   "execution_count": 24,
   "id": "f7cf7ac8",
   "metadata": {},
   "outputs": [
    {
     "ename": "FileNotFoundError",
     "evalue": "[Errno 2] No such file or directory: '/Downloads/Dom_Casmurro.txt'",
     "output_type": "error",
     "traceback": [
      "\u001b[1;31m---------------------------------------------------------------------------\u001b[0m",
      "\u001b[1;31mFileNotFoundError\u001b[0m                         Traceback (most recent call last)",
      "Input \u001b[1;32mIn [24]\u001b[0m, in \u001b[0;36m<cell line: 1>\u001b[1;34m()\u001b[0m\n\u001b[1;32m----> 1\u001b[0m arquivo \u001b[38;5;241m=\u001b[39m \u001b[38;5;28;43mopen\u001b[39;49m\u001b[43m(\u001b[49m\u001b[38;5;124;43m'\u001b[39;49m\u001b[38;5;124;43m/Downloads/Dom_Casmurro.txt\u001b[39;49m\u001b[38;5;124;43m'\u001b[39;49m\u001b[43m,\u001b[49m\u001b[43m \u001b[49m\u001b[38;5;124;43m'\u001b[39;49m\u001b[38;5;124;43mr\u001b[39;49m\u001b[38;5;124;43m'\u001b[39;49m\u001b[43m)\u001b[49m\n\u001b[0;32m      2\u001b[0m texto \u001b[38;5;241m=\u001b[39m arquivo\u001b[38;5;241m.\u001b[39mread()\n\u001b[0;32m      3\u001b[0m \u001b[38;5;28mprint\u001b[39m(texto)\n",
      "\u001b[1;31mFileNotFoundError\u001b[0m: [Errno 2] No such file or directory: '/Downloads/Dom_Casmurro.txt'"
     ]
    }
   ],
   "source": [
    "arquivo = open('/Downloads/Dom_Casmurro.txt', 'r')\n",
    "texto = arquivo.read()\n",
    "print(texto)\n",
    "arquivo.close()"
   ]
  },
  {
   "cell_type": "code",
   "execution_count": null,
   "id": "8cfaa4ed",
   "metadata": {},
   "outputs": [],
   "source": []
  }
 ],
 "metadata": {
  "kernelspec": {
   "display_name": "Python 3 (ipykernel)",
   "language": "python",
   "name": "python3"
  },
  "language_info": {
   "codemirror_mode": {
    "name": "ipython",
    "version": 3
   },
   "file_extension": ".py",
   "mimetype": "text/x-python",
   "name": "python",
   "nbconvert_exporter": "python",
   "pygments_lexer": "ipython3",
   "version": "3.10.5"
  }
 },
 "nbformat": 4,
 "nbformat_minor": 5
}
